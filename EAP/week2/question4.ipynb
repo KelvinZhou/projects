{
 "cells": [
  {
   "cell_type": "code",
   "execution_count": 1,
   "metadata": {},
   "outputs": [],
   "source": [
    "import numpy as np\n",
    "import pandas as pd\n",
    "import matplotlib.pyplot as plt\n",
    "from matplotlib import cycler\n",
    "from scipy import stats\n",
    "import statsmodels.api as sm"
   ]
  },
  {
   "cell_type": "code",
   "execution_count": 2,
   "metadata": {},
   "outputs": [
    {
     "data": {
      "text/html": [
       "<div>\n",
       "<style scoped>\n",
       "    .dataframe tbody tr th:only-of-type {\n",
       "        vertical-align: middle;\n",
       "    }\n",
       "\n",
       "    .dataframe tbody tr th {\n",
       "        vertical-align: top;\n",
       "    }\n",
       "\n",
       "    .dataframe thead th {\n",
       "        text-align: right;\n",
       "    }\n",
       "</style>\n",
       "<table border=\"1\" class=\"dataframe\">\n",
       "  <thead>\n",
       "    <tr style=\"text-align: right;\">\n",
       "      <th></th>\n",
       "      <th>year</th>\n",
       "      <th>vwretd</th>\n",
       "      <th>vwretx</th>\n",
       "      <th>vwRetd</th>\n",
       "      <th>vwRetx</th>\n",
       "      <th>rf</th>\n",
       "      <th>Rf</th>\n",
       "      <th>DP</th>\n",
       "      <th>DG</th>\n",
       "      <th>dp</th>\n",
       "      <th>dg</th>\n",
       "      <th>r</th>\n",
       "    </tr>\n",
       "  </thead>\n",
       "  <tbody>\n",
       "    <tr>\n",
       "      <td>0</td>\n",
       "      <td>1927</td>\n",
       "      <td>0.328716</td>\n",
       "      <td>0.266477</td>\n",
       "      <td>1.328716</td>\n",
       "      <td>1.266477</td>\n",
       "      <td>0.0307</td>\n",
       "      <td>1.0307</td>\n",
       "      <td>0.049143</td>\n",
       "      <td>1.170843</td>\n",
       "      <td>-3.013012</td>\n",
       "      <td>0.157724</td>\n",
       "      <td>0.284213</td>\n",
       "    </tr>\n",
       "    <tr>\n",
       "      <td>1</td>\n",
       "      <td>1928</td>\n",
       "      <td>0.391397</td>\n",
       "      <td>0.337056</td>\n",
       "      <td>1.391397</td>\n",
       "      <td>1.337056</td>\n",
       "      <td>0.0317</td>\n",
       "      <td>1.0317</td>\n",
       "      <td>0.040642</td>\n",
       "      <td>1.105764</td>\n",
       "      <td>-3.202946</td>\n",
       "      <td>0.100536</td>\n",
       "      <td>0.330308</td>\n",
       "    </tr>\n",
       "    <tr>\n",
       "      <td>2</td>\n",
       "      <td>1929</td>\n",
       "      <td>-0.150955</td>\n",
       "      <td>-0.182395</td>\n",
       "      <td>0.849045</td>\n",
       "      <td>0.817605</td>\n",
       "      <td>0.0426</td>\n",
       "      <td>1.0426</td>\n",
       "      <td>0.038454</td>\n",
       "      <td>0.773579</td>\n",
       "      <td>-3.258298</td>\n",
       "      <td>-0.256728</td>\n",
       "      <td>-0.163643</td>\n",
       "    </tr>\n",
       "    <tr>\n",
       "      <td>3</td>\n",
       "      <td>1930</td>\n",
       "      <td>-0.289005</td>\n",
       "      <td>-0.321455</td>\n",
       "      <td>0.710995</td>\n",
       "      <td>0.678545</td>\n",
       "      <td>0.0303</td>\n",
       "      <td>1.0303</td>\n",
       "      <td>0.047823</td>\n",
       "      <td>0.843870</td>\n",
       "      <td>-3.040250</td>\n",
       "      <td>-0.169756</td>\n",
       "      <td>-0.341090</td>\n",
       "    </tr>\n",
       "    <tr>\n",
       "      <td>4</td>\n",
       "      <td>1931</td>\n",
       "      <td>-0.443873</td>\n",
       "      <td>-0.476969</td>\n",
       "      <td>0.556127</td>\n",
       "      <td>0.523031</td>\n",
       "      <td>0.0148</td>\n",
       "      <td>1.0148</td>\n",
       "      <td>0.063277</td>\n",
       "      <td>0.692053</td>\n",
       "      <td>-2.760228</td>\n",
       "      <td>-0.368092</td>\n",
       "      <td>-0.586759</td>\n",
       "    </tr>\n",
       "    <tr>\n",
       "      <td>...</td>\n",
       "      <td>...</td>\n",
       "      <td>...</td>\n",
       "      <td>...</td>\n",
       "      <td>...</td>\n",
       "      <td>...</td>\n",
       "      <td>...</td>\n",
       "      <td>...</td>\n",
       "      <td>...</td>\n",
       "      <td>...</td>\n",
       "      <td>...</td>\n",
       "      <td>...</td>\n",
       "      <td>...</td>\n",
       "    </tr>\n",
       "    <tr>\n",
       "      <td>88</td>\n",
       "      <td>2015</td>\n",
       "      <td>-0.015995</td>\n",
       "      <td>-0.037069</td>\n",
       "      <td>0.984005</td>\n",
       "      <td>0.962931</td>\n",
       "      <td>0.0003</td>\n",
       "      <td>1.0003</td>\n",
       "      <td>0.021885</td>\n",
       "      <td>1.008804</td>\n",
       "      <td>-3.821942</td>\n",
       "      <td>0.008766</td>\n",
       "      <td>-0.016124</td>\n",
       "    </tr>\n",
       "    <tr>\n",
       "      <td>89</td>\n",
       "      <td>2016</td>\n",
       "      <td>0.129461</td>\n",
       "      <td>0.104250</td>\n",
       "      <td>1.129461</td>\n",
       "      <td>1.104250</td>\n",
       "      <td>0.0023</td>\n",
       "      <td>1.0023</td>\n",
       "      <td>0.022831</td>\n",
       "      <td>1.151962</td>\n",
       "      <td>-3.779641</td>\n",
       "      <td>0.141467</td>\n",
       "      <td>0.121741</td>\n",
       "    </tr>\n",
       "    <tr>\n",
       "      <td>90</td>\n",
       "      <td>2017</td>\n",
       "      <td>0.209028</td>\n",
       "      <td>0.184488</td>\n",
       "      <td>1.209028</td>\n",
       "      <td>1.184488</td>\n",
       "      <td>0.0051</td>\n",
       "      <td>1.0051</td>\n",
       "      <td>0.020718</td>\n",
       "      <td>1.074860</td>\n",
       "      <td>-3.876761</td>\n",
       "      <td>0.072190</td>\n",
       "      <td>0.189817</td>\n",
       "    </tr>\n",
       "    <tr>\n",
       "      <td>91</td>\n",
       "      <td>2018</td>\n",
       "      <td>-0.061828</td>\n",
       "      <td>-0.081145</td>\n",
       "      <td>0.938172</td>\n",
       "      <td>0.918855</td>\n",
       "      <td>0.0132</td>\n",
       "      <td>1.0132</td>\n",
       "      <td>0.021023</td>\n",
       "      <td>0.932386</td>\n",
       "      <td>-3.862143</td>\n",
       "      <td>-0.070008</td>\n",
       "      <td>-0.063822</td>\n",
       "    </tr>\n",
       "    <tr>\n",
       "      <td>92</td>\n",
       "      <td>2019</td>\n",
       "      <td>0.297513</td>\n",
       "      <td>0.271214</td>\n",
       "      <td>1.297513</td>\n",
       "      <td>1.271214</td>\n",
       "      <td>0.0237</td>\n",
       "      <td>1.0237</td>\n",
       "      <td>0.020688</td>\n",
       "      <td>1.250969</td>\n",
       "      <td>-3.878197</td>\n",
       "      <td>0.223918</td>\n",
       "      <td>0.260449</td>\n",
       "    </tr>\n",
       "  </tbody>\n",
       "</table>\n",
       "<p>93 rows × 12 columns</p>\n",
       "</div>"
      ],
      "text/plain": [
       "    year    vwretd    vwretx    vwRetd    vwRetx      rf      Rf        DP  \\\n",
       "0   1927  0.328716  0.266477  1.328716  1.266477  0.0307  1.0307  0.049143   \n",
       "1   1928  0.391397  0.337056  1.391397  1.337056  0.0317  1.0317  0.040642   \n",
       "2   1929 -0.150955 -0.182395  0.849045  0.817605  0.0426  1.0426  0.038454   \n",
       "3   1930 -0.289005 -0.321455  0.710995  0.678545  0.0303  1.0303  0.047823   \n",
       "4   1931 -0.443873 -0.476969  0.556127  0.523031  0.0148  1.0148  0.063277   \n",
       "..   ...       ...       ...       ...       ...     ...     ...       ...   \n",
       "88  2015 -0.015995 -0.037069  0.984005  0.962931  0.0003  1.0003  0.021885   \n",
       "89  2016  0.129461  0.104250  1.129461  1.104250  0.0023  1.0023  0.022831   \n",
       "90  2017  0.209028  0.184488  1.209028  1.184488  0.0051  1.0051  0.020718   \n",
       "91  2018 -0.061828 -0.081145  0.938172  0.918855  0.0132  1.0132  0.021023   \n",
       "92  2019  0.297513  0.271214  1.297513  1.271214  0.0237  1.0237  0.020688   \n",
       "\n",
       "          DG        dp        dg         r  \n",
       "0   1.170843 -3.013012  0.157724  0.284213  \n",
       "1   1.105764 -3.202946  0.100536  0.330308  \n",
       "2   0.773579 -3.258298 -0.256728 -0.163643  \n",
       "3   0.843870 -3.040250 -0.169756 -0.341090  \n",
       "4   0.692053 -2.760228 -0.368092 -0.586759  \n",
       "..       ...       ...       ...       ...  \n",
       "88  1.008804 -3.821942  0.008766 -0.016124  \n",
       "89  1.151962 -3.779641  0.141467  0.121741  \n",
       "90  1.074860 -3.876761  0.072190  0.189817  \n",
       "91  0.932386 -3.862143 -0.070008 -0.063822  \n",
       "92  1.250969 -3.878197  0.223918  0.260449  \n",
       "\n",
       "[93 rows x 12 columns]"
      ]
     },
     "execution_count": 2,
     "metadata": {},
     "output_type": "execute_result"
    }
   ],
   "source": [
    "df = pd.read_csv('df1.csv')\n",
    "df.dropna(inplace = True)\n",
    "df.reset_index(drop = True, inplace = True)\n",
    "df['dp'] = np.log(df['DP'])\n",
    "df['dg'] = np.log(df['DG'])\n",
    "df['r'] = np.log(df['vwRetd'])\n",
    "df"
   ]
  },
  {
   "cell_type": "code",
   "execution_count": 3,
   "metadata": {},
   "outputs": [
    {
     "data": {
      "text/plain": [
       "0.9669445703655455"
      ]
     },
     "execution_count": 3,
     "metadata": {},
     "output_type": "execute_result"
    }
   ],
   "source": [
    "rho = np.exp(- df['dp'].mean()) / (1 + np.exp(- df['dp'].mean()))\n",
    "rho"
   ]
  },
  {
   "cell_type": "code",
   "execution_count": 4,
   "metadata": {},
   "outputs": [],
   "source": [
    "oos = []\n",
    "for i in range(18, df.shape[0] - 3):\n",
    "    # Dependent variable (nparray)\n",
    "    Y = np.array(df.loc[1: i + 1, 'r'])[:, np.newaxis]\n",
    "    # Independent variables (nparray)\n",
    "    X = np.array(df.loc[: i, 'dp']) # .loc will include the tail!!!!!!!!!!\n",
    "    X = sm.add_constant(X)\n",
    "    model = sm.OLS(Y, X)\n",
    "    result = model.fit()\n",
    "    e_dp = df.loc[i + 2, 'r'] - result.params[0] - result.params[1] * df.loc[i + 1, 'dp']\n",
    "    e_simple = df.loc[i + 2, 'r'] - df.loc[: i + 1, 'r'].mean()\n",
    "    oos.append([i + 2 + 1927, e_dp, e_simple])"
   ]
  },
  {
   "cell_type": "code",
   "execution_count": 5,
   "metadata": {},
   "outputs": [],
   "source": [
    "oos = np.array(oos)"
   ]
  },
  {
   "cell_type": "code",
   "execution_count": 6,
   "metadata": {},
   "outputs": [],
   "source": [
    "mse_dp = np.cumsum(oos[:, 1] * oos[:, 1]) / np.array(range(1, oos.shape[0] + 1))\n",
    "mse_simple = np.cumsum(oos[:, 2] * oos[:, 2]) / np.array(range(1, oos.shape[0] + 1))"
   ]
  },
  {
   "cell_type": "code",
   "execution_count": 7,
   "metadata": {},
   "outputs": [
    {
     "data": {
      "image/png": "[encoded data removed]",
      "text/plain": [
       "<matplotlib.figure.Figure at 0x11aa5b080>"
      ]
     },
     "metadata": {},
     "output_type": "display_data"
    }
   ],
   "source": [
    "# ax will be an array of Axes objects\n",
    "fig, ax = plt.subplots(figsize=(14, 7))\n",
    "ax.set_prop_cycle(cycler('color', ['#0066a1', '#ce753b', '#b85696', '#31686c', '#853c42']))\n",
    "\n",
    "# Call plot() method on the appropriate object\n",
    "ax.plot(oos[:, 0], mse_dp, linewidth=0.7, label=r'$mse_t^{dp}$')\n",
    "ax.plot(oos[:, 0], mse_simple, linewidth=0.7, label=r'$mse_t^{simple}$')\n",
    "\n",
    "ax.set_xlabel('Year', fontsize = 12)\n",
    "ax.xaxis.set_major_locator(plt.MultipleLocator(10))\n",
    "ax.yaxis.set_major_locator(plt.MultipleLocator(0.01))\n",
    "ax.legend();"
   ]
  },
  {
   "cell_type": "code",
   "execution_count": 8,
   "metadata": {},
   "outputs": [],
   "source": [
    "fig.savefig('q4fig1.pdf', format = 'pdf')"
   ]
  },
  {
   "cell_type": "code",
   "execution_count": 9,
   "metadata": {},
   "outputs": [
    {
     "data": {
      "text/plain": [
       "-0.09295256295300769"
      ]
     },
     "execution_count": 9,
     "metadata": {},
     "output_type": "execute_result"
    }
   ],
   "source": [
    "oosr2 = 1 - mse_dp[-1] / mse_simple[-1]\n",
    "oosr2"
   ]
  },
  {
   "cell_type": "markdown",
   "metadata": {},
   "source": [
    "### Simulation"
   ]
  },
  {
   "cell_type": "code",
   "execution_count": 10,
   "metadata": {},
   "outputs": [],
   "source": [
    "# Dependent variable (nparray)\n",
    "Y = np.array(df.loc[1:, 'r'])[:, np.newaxis]\n",
    "# Independent variables (nparray)\n",
    "X = np.array(df.loc[:df.shape[0] - 2, 'dp']) # .loc will include the tail!!!!!!!!!!\n",
    "X = sm.add_constant(X)\n",
    "model = sm.OLS(Y, X)\n",
    "result1 = model.fit()\n",
    "\n",
    "# Dependent variable (nparray)\n",
    "Y = np.array(df.loc[1:, 'dg'])[:, np.newaxis]\n",
    "# Independent variables (nparray)\n",
    "X = np.array(df.loc[:df.shape[0] - 2, 'dp']) # .loc will include the tail!!!!!!!!!!\n",
    "X = sm.add_constant(X)\n",
    "model = sm.OLS(Y, X)\n",
    "result2 = model.fit()\n",
    "\n",
    "# Dependent variable (nparray)\n",
    "Y = np.array(df.loc[1:, 'dp'])[:, np.newaxis]\n",
    "# Independent variables (nparray)\n",
    "X = np.array(df.loc[:df.shape[0] - 2, 'dp']) # .loc will include the tail!!!!!!!!!!\n",
    "X = sm.add_constant(X)\n",
    "model = sm.OLS(Y, X)\n",
    "result3 = model.fit()"
   ]
  },
  {
   "cell_type": "code",
   "execution_count": 11,
   "metadata": {},
   "outputs": [
    {
     "data": {
      "text/plain": [
       "0.03194220354869304"
      ]
     },
     "execution_count": 11,
     "metadata": {},
     "output_type": "execute_result"
    }
   ],
   "source": [
    "isr2 = result1.rsquared\n",
    "isr2"
   ]
  },
  {
   "cell_type": "code",
   "execution_count": 12,
   "metadata": {},
   "outputs": [
    {
     "name": "stdout",
     "output_type": "stream",
     "text": [
      "br: 0.080573530257287\n",
      "bd: -0.005364919687349704\n",
      "phi: 0.9444130978448789\n"
     ]
    }
   ],
   "source": [
    "br = result1.params[1]\n",
    "bd = result2.params[1]\n",
    "phi = result3.params[1]\n",
    "print('br:', br)\n",
    "print('bd:', bd)\n",
    "print('phi:', phi)"
   ]
  },
  {
   "cell_type": "code",
   "execution_count": 13,
   "metadata": {},
   "outputs": [
    {
     "data": {
      "text/plain": [
       "array([[ 0.03700938,  0.01874596, -0.01898586],\n",
       "       [ 0.01874596,  0.02058772,  0.00188119],\n",
       "       [-0.01898586,  0.00188119,  0.02166944]])"
      ]
     },
     "execution_count": 13,
     "metadata": {},
     "output_type": "execute_result"
    }
   ],
   "source": [
    "resid_cov = np.cov(np.array([result1.resid, result2.resid, result3.resid]))\n",
    "resid_cov"
   ]
  },
  {
   "cell_type": "code",
   "execution_count": 14,
   "metadata": {},
   "outputs": [
    {
     "data": {
      "text/plain": [
       "0.08680488285678967"
      ]
     },
     "execution_count": 14,
     "metadata": {},
     "output_type": "execute_result"
    }
   ],
   "source": [
    "bd0 = 0\n",
    "phi0 = phi\n",
    "br0 = bd0 - rho * phi0 + 1\n",
    "br0"
   ]
  },
  {
   "cell_type": "code",
   "execution_count": 15,
   "metadata": {},
   "outputs": [],
   "source": [
    "ar0 = result1.params[0]\n",
    "ad0 = result2.params[0]\n",
    "adp0 = result3.params[0]"
   ]
  },
  {
   "cell_type": "code",
   "execution_count": 16,
   "metadata": {},
   "outputs": [],
   "source": [
    "r2 = []\n",
    "\n",
    "for j in range(5000):\n",
    "    T = 93\n",
    "    sample = []\n",
    "    dp0 = np.mean(df['dp'])\n",
    "    for i in range(T):\n",
    "        epsilon = stats.multivariate_normal(mean = [0, 0, 0], cov = resid_cov).rvs()\n",
    "        epsilon[0] = - rho * epsilon[2] + epsilon[1]\n",
    "        obs = np.array([ar0, ad0, adp0]) + np.array([br0, bd0, phi0]) * dp0 + epsilon\n",
    "        sample.append(obs)\n",
    "        dp0 = obs[2]\n",
    "    sample = np.array(sample)\n",
    "\n",
    "    # Dependent variable (nparray)\n",
    "    Y = sample[1:, 0][:, np.newaxis]\n",
    "    # Independent variables (nparray)\n",
    "    X = sample[:-1, 2]\n",
    "    X = sm.add_constant(X)\n",
    "    model = sm.OLS(Y, X)\n",
    "    result = model.fit()\n",
    "    isr2 = result.rsquared\n",
    "    \n",
    "    oos = []\n",
    "    for k in range(19, sample.shape[0] - 2):\n",
    "        # Dependent variable (nparray)\n",
    "        Y = np.array(sample[1: k + 1, 0])[:, np.newaxis]\n",
    "        # Independent variables (nparray)\n",
    "        X = np.array(sample[: k, 2])\n",
    "        X = sm.add_constant(X)\n",
    "        model = sm.OLS(Y, X)\n",
    "        result = model.fit()\n",
    "        e_dp = sample[k + 1, 0] - result.params[0] - result.params[1] * sample[k, 2]\n",
    "        e_simple = sample[k + 1, 0] - np.mean(sample[: k + 1, 0])\n",
    "        oos.append([k + 1 + 1927, e_dp, e_simple])\n",
    "    oos = np.array(oos)\n",
    "    mse_dp = np.cumsum(oos[:, 1] * oos[:, 1]) / np.array(range(1, oos.shape[0] + 1))\n",
    "    mse_simple = np.cumsum(oos[:, 2] * oos[:, 2]) / np.array(range(1, oos.shape[0] + 1))\n",
    "    oosr2 = 1 - mse_dp[-1] / mse_simple[-1]\n",
    "    \n",
    "    r2.append([isr2, oosr2])"
   ]
  },
  {
   "cell_type": "code",
   "execution_count": 17,
   "metadata": {},
   "outputs": [],
   "source": [
    "r2 = np.array(r2)"
   ]
  },
  {
   "cell_type": "code",
   "execution_count": 18,
   "metadata": {},
   "outputs": [
    {
     "data": {
      "image/png": "[encoded data removed]",
      "text/plain": [
       "<matplotlib.figure.Figure at 0x11a9c7a20>"
      ]
     },
     "metadata": {},
     "output_type": "display_data"
    }
   ],
   "source": [
    "# ax will be an array of Axes objects\n",
    "fig, ax = plt.subplots(figsize=(14, 7))\n",
    "ax.set_prop_cycle(cycler('color', ['#0066a1', '#ce753b', '#b85696', '#31686c', '#853c42']))\n",
    "\n",
    "# Call plot() method on the appropriate object\n",
    "ax.hist(r2[:, 0], bins=100, alpha=0.5,\n",
    "         histtype='stepfilled', color='steelblue',\n",
    "         edgecolor='none')\n",
    "ax.vlines(0.0319, ymin = ax.get_ylim()[0], ymax = ax.get_ylim()[1], colors = '#ce753b', linestyles='dashed')\n",
    "\n",
    "ax.set_xlabel(r'$ISR^2$', fontsize = 12);"
   ]
  },
  {
   "cell_type": "code",
   "execution_count": 19,
   "metadata": {},
   "outputs": [],
   "source": [
    "fig.savefig('q4fig2.pdf', format = 'pdf')"
   ]
  },
  {
   "cell_type": "code",
   "execution_count": 20,
   "metadata": {
    "scrolled": false
   },
   "outputs": [
    {
     "data": {
      "image/png": "[encoded data removed]",
      "text/plain": [
       "<matplotlib.figure.Figure at 0x12399c710>"
      ]
     },
     "metadata": {},
     "output_type": "display_data"
    }
   ],
   "source": [
    "# ax will be an array of Axes objects\n",
    "fig, ax = plt.subplots(figsize=(14, 7))\n",
    "ax.set_prop_cycle(cycler('color', ['#0066a1', '#ce753b', '#b85696', '#31686c', '#853c42']))\n",
    "\n",
    "# Call plot() method on the appropriate object\n",
    "ax.hist(r2[:, 1], bins=100, alpha=0.5,\n",
    "         histtype='stepfilled', color='steelblue',\n",
    "         edgecolor='none')\n",
    "ax.vlines(-0.09295, ymin = ax.get_ylim()[0], ymax = ax.get_ylim()[1], colors = '#ce753b', linestyles='dashed')\n",
    "\n",
    "ax.set_xlabel(r'$OOSR^2$', fontsize = 12);"
   ]
  },
  {
   "cell_type": "code",
   "execution_count": 21,
   "metadata": {},
   "outputs": [],
   "source": [
    "fig.savefig('q4fig3.pdf', format = 'pdf')"
   ]
  }
 ],
 "metadata": {
  "kernelspec": {
   "display_name": "Python 3",
   "language": "python",
   "name": "python3"
  },
  "language_info": {
   "codemirror_mode": {
    "name": "ipython",
    "version": 3
   },
   "file_extension": ".py",
   "mimetype": "text/x-python",
   "name": "python",
   "nbconvert_exporter": "python",
   "pygments_lexer": "ipython3",
   "version": "3.6.4"
  }
 },
 "nbformat": 4,
 "nbformat_minor": 2
}
