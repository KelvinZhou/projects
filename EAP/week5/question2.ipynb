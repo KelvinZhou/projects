{
 "cells": [
  {
   "cell_type": "code",
   "execution_count": 1,
   "metadata": {},
   "outputs": [],
   "source": [
    "import numpy as np\n",
    "import pandas as pd\n",
    "import matplotlib.pyplot as plt\n",
    "from matplotlib import cycler\n",
    "from scipy import stats\n",
    "import statsmodels.api as sm"
   ]
  },
  {
   "cell_type": "code",
   "execution_count": 3,
   "metadata": {},
   "outputs": [
    {
     "data": {
      "text/html": [
       "<div>\n",
       "<style scoped>\n",
       "    .dataframe tbody tr th:only-of-type {\n",
       "        vertical-align: middle;\n",
       "    }\n",
       "\n",
       "    .dataframe tbody tr th {\n",
       "        vertical-align: top;\n",
       "    }\n",
       "\n",
       "    .dataframe thead th {\n",
       "        text-align: right;\n",
       "    }\n",
       "</style>\n",
       "<table border=\"1\" class=\"dataframe\">\n",
       "  <thead>\n",
       "    <tr style=\"text-align: right;\">\n",
       "      <th></th>\n",
       "      <th>month</th>\n",
       "      <th>SMALL LoBM</th>\n",
       "      <th>ME1 BM2</th>\n",
       "      <th>ME1 BM3</th>\n",
       "      <th>ME1 BM4</th>\n",
       "      <th>SMALL HiBM</th>\n",
       "      <th>ME2 BM1</th>\n",
       "      <th>ME2 BM2</th>\n",
       "      <th>ME2 BM3</th>\n",
       "      <th>ME2 BM4</th>\n",
       "      <th>...</th>\n",
       "      <th>ME4 BM5</th>\n",
       "      <th>BIG LoBM</th>\n",
       "      <th>ME5 BM2</th>\n",
       "      <th>ME5 BM3</th>\n",
       "      <th>ME5 BM4</th>\n",
       "      <th>BIG HiBM</th>\n",
       "      <th>Mkt-RF</th>\n",
       "      <th>SMB</th>\n",
       "      <th>HML</th>\n",
       "      <th>RF</th>\n",
       "    </tr>\n",
       "  </thead>\n",
       "  <tbody>\n",
       "    <tr>\n",
       "      <td>0</td>\n",
       "      <td>192607</td>\n",
       "      <td>3.7782</td>\n",
       "      <td>-0.4119</td>\n",
       "      <td>-1.9434</td>\n",
       "      <td>0.3530</td>\n",
       "      <td>2.0534</td>\n",
       "      <td>2.1904</td>\n",
       "      <td>2.4192</td>\n",
       "      <td>0.4926</td>\n",
       "      <td>-1.5770</td>\n",
       "      <td>...</td>\n",
       "      <td>2.4678</td>\n",
       "      <td>3.4539</td>\n",
       "      <td>6.0902</td>\n",
       "      <td>2.0266</td>\n",
       "      <td>3.1111</td>\n",
       "      <td>0.5623</td>\n",
       "      <td>2.96</td>\n",
       "      <td>-2.30</td>\n",
       "      <td>-2.87</td>\n",
       "      <td>0.22</td>\n",
       "    </tr>\n",
       "    <tr>\n",
       "      <td>1</td>\n",
       "      <td>192608</td>\n",
       "      <td>-2.2074</td>\n",
       "      <td>-8.7275</td>\n",
       "      <td>2.4404</td>\n",
       "      <td>0.6086</td>\n",
       "      <td>8.3968</td>\n",
       "      <td>2.1709</td>\n",
       "      <td>-1.1849</td>\n",
       "      <td>4.0084</td>\n",
       "      <td>0.4643</td>\n",
       "      <td>...</td>\n",
       "      <td>5.3422</td>\n",
       "      <td>1.0124</td>\n",
       "      <td>4.1903</td>\n",
       "      <td>2.0131</td>\n",
       "      <td>5.4849</td>\n",
       "      <td>7.7576</td>\n",
       "      <td>2.64</td>\n",
       "      <td>-1.40</td>\n",
       "      <td>4.19</td>\n",
       "      <td>0.25</td>\n",
       "    </tr>\n",
       "    <tr>\n",
       "      <td>2</td>\n",
       "      <td>192609</td>\n",
       "      <td>-6.2113</td>\n",
       "      <td>-0.2989</td>\n",
       "      <td>-6.1982</td>\n",
       "      <td>-1.6368</td>\n",
       "      <td>0.8649</td>\n",
       "      <td>-1.8550</td>\n",
       "      <td>-1.2618</td>\n",
       "      <td>1.0829</td>\n",
       "      <td>-3.0405</td>\n",
       "      <td>...</td>\n",
       "      <td>0.8730</td>\n",
       "      <td>-1.2906</td>\n",
       "      <td>3.6538</td>\n",
       "      <td>0.0950</td>\n",
       "      <td>-0.7487</td>\n",
       "      <td>-2.4284</td>\n",
       "      <td>0.36</td>\n",
       "      <td>-1.32</td>\n",
       "      <td>0.01</td>\n",
       "      <td>0.23</td>\n",
       "    </tr>\n",
       "    <tr>\n",
       "      <td>3</td>\n",
       "      <td>192610</td>\n",
       "      <td>-8.6241</td>\n",
       "      <td>-3.7532</td>\n",
       "      <td>-5.6719</td>\n",
       "      <td>5.7170</td>\n",
       "      <td>-2.5476</td>\n",
       "      <td>-1.7995</td>\n",
       "      <td>-3.2663</td>\n",
       "      <td>-5.0745</td>\n",
       "      <td>-8.0450</td>\n",
       "      <td>...</td>\n",
       "      <td>-5.3525</td>\n",
       "      <td>-2.7413</td>\n",
       "      <td>-3.0071</td>\n",
       "      <td>-2.2437</td>\n",
       "      <td>-4.6719</td>\n",
       "      <td>-5.8129</td>\n",
       "      <td>-3.24</td>\n",
       "      <td>0.04</td>\n",
       "      <td>0.51</td>\n",
       "      <td>0.32</td>\n",
       "    </tr>\n",
       "    <tr>\n",
       "      <td>4</td>\n",
       "      <td>192611</td>\n",
       "      <td>3.4744</td>\n",
       "      <td>6.6476</td>\n",
       "      <td>2.2634</td>\n",
       "      <td>-4.7020</td>\n",
       "      <td>0.5362</td>\n",
       "      <td>2.9051</td>\n",
       "      <td>-2.3690</td>\n",
       "      <td>3.0078</td>\n",
       "      <td>4.6649</td>\n",
       "      <td>...</td>\n",
       "      <td>1.8213</td>\n",
       "      <td>4.2946</td>\n",
       "      <td>2.5326</td>\n",
       "      <td>1.5204</td>\n",
       "      <td>3.6619</td>\n",
       "      <td>2.5636</td>\n",
       "      <td>2.53</td>\n",
       "      <td>-0.20</td>\n",
       "      <td>-0.35</td>\n",
       "      <td>0.31</td>\n",
       "    </tr>\n",
       "  </tbody>\n",
       "</table>\n",
       "<p>5 rows × 30 columns</p>\n",
       "</div>"
      ],
      "text/plain": [
       "    month  SMALL LoBM  ME1 BM2  ME1 BM3  ME1 BM4  SMALL HiBM  ME2 BM1  \\\n",
       "0  192607      3.7782  -0.4119  -1.9434   0.3530      2.0534   2.1904   \n",
       "1  192608     -2.2074  -8.7275   2.4404   0.6086      8.3968   2.1709   \n",
       "2  192609     -6.2113  -0.2989  -6.1982  -1.6368      0.8649  -1.8550   \n",
       "3  192610     -8.6241  -3.7532  -5.6719   5.7170     -2.5476  -1.7995   \n",
       "4  192611      3.4744   6.6476   2.2634  -4.7020      0.5362   2.9051   \n",
       "\n",
       "   ME2 BM2  ME2 BM3  ME2 BM4  ...  ME4 BM5  BIG LoBM  ME5 BM2  ME5 BM3  \\\n",
       "0   2.4192   0.4926  -1.5770  ...   2.4678    3.4539   6.0902   2.0266   \n",
       "1  -1.1849   4.0084   0.4643  ...   5.3422    1.0124   4.1903   2.0131   \n",
       "2  -1.2618   1.0829  -3.0405  ...   0.8730   -1.2906   3.6538   0.0950   \n",
       "3  -3.2663  -5.0745  -8.0450  ...  -5.3525   -2.7413  -3.0071  -2.2437   \n",
       "4  -2.3690   3.0078   4.6649  ...   1.8213    4.2946   2.5326   1.5204   \n",
       "\n",
       "   ME5 BM4  BIG HiBM  Mkt-RF   SMB   HML    RF  \n",
       "0   3.1111    0.5623    2.96 -2.30 -2.87  0.22  \n",
       "1   5.4849    7.7576    2.64 -1.40  4.19  0.25  \n",
       "2  -0.7487   -2.4284    0.36 -1.32  0.01  0.23  \n",
       "3  -4.6719   -5.8129   -3.24  0.04  0.51  0.32  \n",
       "4   3.6619    2.5636    2.53 -0.20 -0.35  0.31  \n",
       "\n",
       "[5 rows x 30 columns]"
      ]
     },
     "execution_count": 3,
     "metadata": {},
     "output_type": "execute_result"
    }
   ],
   "source": [
    "df1 = pd.read_csv('25_Portfolios_5x5.csv')\n",
    "df2 = pd.read_csv('F-F_Research_Data_Factors.csv')\n",
    "df = pd.merge(df1, df2, on = 'month')\n",
    "df.head()"
   ]
  },
  {
   "cell_type": "code",
   "execution_count": 4,
   "metadata": {},
   "outputs": [
    {
     "data": {
      "text/html": [
       "<div>\n",
       "<style scoped>\n",
       "    .dataframe tbody tr th:only-of-type {\n",
       "        vertical-align: middle;\n",
       "    }\n",
       "\n",
       "    .dataframe tbody tr th {\n",
       "        vertical-align: top;\n",
       "    }\n",
       "\n",
       "    .dataframe thead th {\n",
       "        text-align: right;\n",
       "    }\n",
       "</style>\n",
       "<table border=\"1\" class=\"dataframe\">\n",
       "  <thead>\n",
       "    <tr style=\"text-align: right;\">\n",
       "      <th></th>\n",
       "      <th>SMALL LoBM</th>\n",
       "      <th>ME1 BM2</th>\n",
       "      <th>ME1 BM3</th>\n",
       "      <th>ME1 BM4</th>\n",
       "      <th>SMALL HiBM</th>\n",
       "      <th>ME2 BM1</th>\n",
       "      <th>ME2 BM2</th>\n",
       "      <th>ME2 BM3</th>\n",
       "      <th>ME2 BM4</th>\n",
       "      <th>ME2 BM5</th>\n",
       "      <th>...</th>\n",
       "      <th>ME4 BM1</th>\n",
       "      <th>ME4 BM2</th>\n",
       "      <th>ME4 BM3</th>\n",
       "      <th>ME4 BM4</th>\n",
       "      <th>ME4 BM5</th>\n",
       "      <th>BIG LoBM</th>\n",
       "      <th>ME5 BM2</th>\n",
       "      <th>ME5 BM3</th>\n",
       "      <th>ME5 BM4</th>\n",
       "      <th>BIG HiBM</th>\n",
       "    </tr>\n",
       "  </thead>\n",
       "  <tbody>\n",
       "    <tr>\n",
       "      <td>0</td>\n",
       "      <td>3.5582</td>\n",
       "      <td>-0.6319</td>\n",
       "      <td>-2.1634</td>\n",
       "      <td>0.1330</td>\n",
       "      <td>1.8334</td>\n",
       "      <td>1.9704</td>\n",
       "      <td>2.1992</td>\n",
       "      <td>0.2726</td>\n",
       "      <td>-1.7970</td>\n",
       "      <td>-0.5544</td>\n",
       "      <td>...</td>\n",
       "      <td>1.3693</td>\n",
       "      <td>1.3078</td>\n",
       "      <td>0.9669</td>\n",
       "      <td>0.0527</td>\n",
       "      <td>2.2478</td>\n",
       "      <td>3.2339</td>\n",
       "      <td>5.8702</td>\n",
       "      <td>1.8066</td>\n",
       "      <td>2.8911</td>\n",
       "      <td>0.3423</td>\n",
       "    </tr>\n",
       "    <tr>\n",
       "      <td>1</td>\n",
       "      <td>-2.4574</td>\n",
       "      <td>-8.9775</td>\n",
       "      <td>2.1904</td>\n",
       "      <td>0.3586</td>\n",
       "      <td>8.1468</td>\n",
       "      <td>1.9209</td>\n",
       "      <td>-1.4349</td>\n",
       "      <td>3.7584</td>\n",
       "      <td>0.2143</td>\n",
       "      <td>5.9175</td>\n",
       "      <td>...</td>\n",
       "      <td>1.0836</td>\n",
       "      <td>3.6230</td>\n",
       "      <td>1.7559</td>\n",
       "      <td>1.9206</td>\n",
       "      <td>5.0922</td>\n",
       "      <td>0.7624</td>\n",
       "      <td>3.9403</td>\n",
       "      <td>1.7631</td>\n",
       "      <td>5.2349</td>\n",
       "      <td>7.5076</td>\n",
       "    </tr>\n",
       "    <tr>\n",
       "      <td>2</td>\n",
       "      <td>-6.4413</td>\n",
       "      <td>-0.5289</td>\n",
       "      <td>-6.4282</td>\n",
       "      <td>-1.8668</td>\n",
       "      <td>0.6349</td>\n",
       "      <td>-2.0850</td>\n",
       "      <td>-1.4918</td>\n",
       "      <td>0.8529</td>\n",
       "      <td>-3.2705</td>\n",
       "      <td>-1.1701</td>\n",
       "      <td>...</td>\n",
       "      <td>0.8623</td>\n",
       "      <td>-0.7550</td>\n",
       "      <td>-1.9614</td>\n",
       "      <td>1.2346</td>\n",
       "      <td>0.6430</td>\n",
       "      <td>-1.5206</td>\n",
       "      <td>3.4238</td>\n",
       "      <td>-0.1350</td>\n",
       "      <td>-0.9787</td>\n",
       "      <td>-2.6584</td>\n",
       "    </tr>\n",
       "    <tr>\n",
       "      <td>3</td>\n",
       "      <td>-8.9441</td>\n",
       "      <td>-4.0732</td>\n",
       "      <td>-5.9919</td>\n",
       "      <td>5.3970</td>\n",
       "      <td>-2.8676</td>\n",
       "      <td>-2.1195</td>\n",
       "      <td>-3.5863</td>\n",
       "      <td>-5.3945</td>\n",
       "      <td>-8.3650</td>\n",
       "      <td>-1.6413</td>\n",
       "      <td>...</td>\n",
       "      <td>-3.6561</td>\n",
       "      <td>-2.9759</td>\n",
       "      <td>-2.3516</td>\n",
       "      <td>-3.4251</td>\n",
       "      <td>-5.6725</td>\n",
       "      <td>-3.0613</td>\n",
       "      <td>-3.3271</td>\n",
       "      <td>-2.5637</td>\n",
       "      <td>-4.9919</td>\n",
       "      <td>-6.1329</td>\n",
       "    </tr>\n",
       "    <tr>\n",
       "      <td>4</td>\n",
       "      <td>3.1644</td>\n",
       "      <td>6.3376</td>\n",
       "      <td>1.9534</td>\n",
       "      <td>-5.0120</td>\n",
       "      <td>0.2262</td>\n",
       "      <td>2.5951</td>\n",
       "      <td>-2.6790</td>\n",
       "      <td>2.6978</td>\n",
       "      <td>4.3549</td>\n",
       "      <td>2.4192</td>\n",
       "      <td>...</td>\n",
       "      <td>3.1348</td>\n",
       "      <td>2.0787</td>\n",
       "      <td>3.4303</td>\n",
       "      <td>4.6220</td>\n",
       "      <td>1.5113</td>\n",
       "      <td>3.9846</td>\n",
       "      <td>2.2226</td>\n",
       "      <td>1.2104</td>\n",
       "      <td>3.3519</td>\n",
       "      <td>2.2536</td>\n",
       "    </tr>\n",
       "  </tbody>\n",
       "</table>\n",
       "<p>5 rows × 25 columns</p>\n",
       "</div>"
      ],
      "text/plain": [
       "   SMALL LoBM  ME1 BM2  ME1 BM3  ME1 BM4  SMALL HiBM  ME2 BM1  ME2 BM2  \\\n",
       "0      3.5582  -0.6319  -2.1634   0.1330      1.8334   1.9704   2.1992   \n",
       "1     -2.4574  -8.9775   2.1904   0.3586      8.1468   1.9209  -1.4349   \n",
       "2     -6.4413  -0.5289  -6.4282  -1.8668      0.6349  -2.0850  -1.4918   \n",
       "3     -8.9441  -4.0732  -5.9919   5.3970     -2.8676  -2.1195  -3.5863   \n",
       "4      3.1644   6.3376   1.9534  -5.0120      0.2262   2.5951  -2.6790   \n",
       "\n",
       "   ME2 BM3  ME2 BM4  ME2 BM5  ...  ME4 BM1  ME4 BM2  ME4 BM3  ME4 BM4  \\\n",
       "0   0.2726  -1.7970  -0.5544  ...   1.3693   1.3078   0.9669   0.0527   \n",
       "1   3.7584   0.2143   5.9175  ...   1.0836   3.6230   1.7559   1.9206   \n",
       "2   0.8529  -3.2705  -1.1701  ...   0.8623  -0.7550  -1.9614   1.2346   \n",
       "3  -5.3945  -8.3650  -1.6413  ...  -3.6561  -2.9759  -2.3516  -3.4251   \n",
       "4   2.6978   4.3549   2.4192  ...   3.1348   2.0787   3.4303   4.6220   \n",
       "\n",
       "   ME4 BM5  BIG LoBM  ME5 BM2  ME5 BM3  ME5 BM4  BIG HiBM  \n",
       "0   2.2478    3.2339   5.8702   1.8066   2.8911    0.3423  \n",
       "1   5.0922    0.7624   3.9403   1.7631   5.2349    7.5076  \n",
       "2   0.6430   -1.5206   3.4238  -0.1350  -0.9787   -2.6584  \n",
       "3  -5.6725   -3.0613  -3.3271  -2.5637  -4.9919   -6.1329  \n",
       "4   1.5113    3.9846   2.2226   1.2104   3.3519    2.2536  \n",
       "\n",
       "[5 rows x 25 columns]"
      ]
     },
     "execution_count": 4,
     "metadata": {},
     "output_type": "execute_result"
    }
   ],
   "source": [
    "ExcessReturns = df.iloc[:, 1:26].sub(df['RF'], axis=0)\n",
    "ExcessReturns.head()"
   ]
  },
  {
   "cell_type": "code",
   "execution_count": 43,
   "metadata": {},
   "outputs": [],
   "source": [
    "alpha = []\n",
    "beta = []\n",
    "residual = []\n",
    "for j in range(25):\n",
    "    Y = np.array(ExcessReturns.iloc[:, j])[:, np.newaxis]\n",
    "    # Independent variables (nparray)\n",
    "    X = np.array(df['Mkt-RF'])[:, np.newaxis]\n",
    "    X = sm.add_constant(X)\n",
    "    model = sm.OLS(Y, X)\n",
    "    result = model.fit(cov_type = 'HC0')\n",
    "    alpha.append(result.params[0])\n",
    "    beta.append(result.params[1])\n",
    "    residual.append(result.resid)\n",
    "alpha = np.array(alpha)[:, np.newaxis]\n",
    "beta = np.array(beta)[:, np.newaxis]\n",
    "residual = np.array(residual)"
   ]
  },
  {
   "cell_type": "code",
   "execution_count": 26,
   "metadata": {},
   "outputs": [],
   "source": [
    "# GRS Test\n",
    "T = ExcessReturns.shape[0]\n",
    "sigma = (residual @ residual.transpose()) / T\n",
    "GRS_stat = T / (1 + df['Mkt-RF'].mean() / df['Mkt-RF'].var() * df['Mkt-RF'].mean()) * (alpha.transpose() @ np.linalg.inv(sigma) @ alpha)"
   ]
  },
  {
   "cell_type": "code",
   "execution_count": 28,
   "metadata": {},
   "outputs": [
    {
     "data": {
      "text/plain": [
       "83.49405349694516"
      ]
     },
     "execution_count": 28,
     "metadata": {},
     "output_type": "execute_result"
    }
   ],
   "source": [
    "GRS_stat[0, 0]"
   ]
  },
  {
   "cell_type": "code",
   "execution_count": 30,
   "metadata": {},
   "outputs": [
    {
     "data": {
      "text/plain": [
       "3.201927423202022e-08"
      ]
     },
     "execution_count": 30,
     "metadata": {},
     "output_type": "execute_result"
    }
   ],
   "source": [
    "1 - stats.chi2.cdf(GRS_stat[0, 0], 25)"
   ]
  },
  {
   "cell_type": "code",
   "execution_count": 33,
   "metadata": {},
   "outputs": [],
   "source": [
    "D = - np.kron(np.array([[1, df['Mkt-RF'].mean()],\n",
    "                        [df['Mkt-RF'].mean(), (df['Mkt-RF'] * df['Mkt-RF']).mean()]]), np.eye(25))"
   ]
  },
  {
   "cell_type": "code",
   "execution_count": 40,
   "metadata": {},
   "outputs": [
    {
     "data": {
      "text/plain": [
       "array([[83.4940535]])"
      ]
     },
     "execution_count": 40,
     "metadata": {},
     "output_type": "execute_result"
    }
   ],
   "source": [
    "cov_alpha = (1 + (df['Mkt-RF'].mean()) * (df['Mkt-RF'].mean()) / df['Mkt-RF'].var()) / T * sigma\n",
    "alpha.transpose() @ np.linalg.inv(cov_alpha) @ alpha"
   ]
  },
  {
   "cell_type": "code",
   "execution_count": 58,
   "metadata": {},
   "outputs": [],
   "source": [
    "cov_beta = sigma / (df['Mkt-RF'].var() * T)"
   ]
  },
  {
   "cell_type": "code",
   "execution_count": 59,
   "metadata": {},
   "outputs": [
    {
     "name": "stdout",
     "output_type": "stream",
     "text": [
      "[[-0.66152672]]\n",
      "[[-13.34666261]]\n"
     ]
    }
   ],
   "source": [
    "gamma = np.zeros((25, 1))\n",
    "gamma[0, 0] = -1\n",
    "gamma[20, 0] = 1\n",
    "print(gamma.transpose() @ beta)\n",
    "print(gamma.transpose() @ beta / np.sqrt(gamma.transpose() @ cov_beta @ gamma))"
   ]
  },
  {
   "cell_type": "code",
   "execution_count": 54,
   "metadata": {},
   "outputs": [
    {
     "name": "stdout",
     "output_type": "stream",
     "text": [
      "[[-0.45537079]]\n",
      "[[-11.87705164]]\n"
     ]
    }
   ],
   "source": [
    "gamma = np.zeros((25, 1))\n",
    "gamma[1, 0] = -1\n",
    "gamma[21, 0] = 1\n",
    "print(gamma.transpose() @ beta)\n",
    "print(gamma.transpose() @ beta / np.sqrt(gamma.transpose() @ cov_beta @ gamma))"
   ]
  },
  {
   "cell_type": "code",
   "execution_count": 55,
   "metadata": {},
   "outputs": [
    {
     "name": "stdout",
     "output_type": "stream",
     "text": [
      "[[-0.39694692]]\n",
      "[[-12.5649493]]\n"
     ]
    }
   ],
   "source": [
    "gamma = np.zeros((25, 1))\n",
    "gamma[2, 0] = -1\n",
    "gamma[22, 0] = 1\n",
    "print(gamma.transpose() @ beta)\n",
    "print(gamma.transpose() @ beta / np.sqrt(gamma.transpose() @ cov_beta @ gamma))"
   ]
  },
  {
   "cell_type": "code",
   "execution_count": 56,
   "metadata": {
    "scrolled": true
   },
   "outputs": [
    {
     "name": "stdout",
     "output_type": "stream",
     "text": [
      "[[-0.16249091]]\n",
      "[[-5.72729286]]\n"
     ]
    }
   ],
   "source": [
    "gamma = np.zeros((25, 1))\n",
    "gamma[3, 0] = -1\n",
    "gamma[23, 0] = 1\n",
    "print(gamma.transpose() @ beta)\n",
    "print(gamma.transpose() @ beta / np.sqrt(gamma.transpose() @ cov_beta @ gamma))"
   ]
  },
  {
   "cell_type": "code",
   "execution_count": 57,
   "metadata": {},
   "outputs": [
    {
     "name": "stdout",
     "output_type": "stream",
     "text": [
      "[[-0.06636202]]\n",
      "[[-1.94379522]]\n"
     ]
    }
   ],
   "source": [
    "gamma = np.zeros((25, 1))\n",
    "gamma[4, 0] = -1\n",
    "gamma[24, 0] = 1\n",
    "print(gamma.transpose() @ beta)\n",
    "print(gamma.transpose() @ beta / np.sqrt(gamma.transpose() @ cov_beta @ gamma))"
   ]
  },
  {
   "cell_type": "markdown",
   "metadata": {},
   "source": [
    "## Cross-sectional regressions"
   ]
  },
  {
   "cell_type": "markdown",
   "metadata": {},
   "source": [
    "### OLS"
   ]
  },
  {
   "cell_type": "code",
   "execution_count": 68,
   "metadata": {},
   "outputs": [
    {
     "name": "stdout",
     "output_type": "stream",
     "text": [
      "0.7155755613995083 20.560999230579363\n"
     ]
    }
   ],
   "source": [
    "Y = np.array(ExcessReturns.mean())[:, np.newaxis]\n",
    "# Independent variables (nparray)\n",
    "X = beta\n",
    "model = sm.OLS(Y, X)\n",
    "result = model.fit(cov_type = 'HC0')\n",
    "print(result.params[0], result.tvalues[0])"
   ]
  },
  {
   "cell_type": "markdown",
   "metadata": {},
   "source": [
    "### Fama-MacBeth"
   ]
  },
  {
   "cell_type": "code",
   "execution_count": 86,
   "metadata": {},
   "outputs": [],
   "source": [
    "lambda_month = []\n",
    "lambda_std_month = []\n",
    "lambda_residual = []\n",
    "for i in range(ExcessReturns.shape[0]):\n",
    "    Y = np.array(ExcessReturns.iloc[i, :])[:, np.newaxis]\n",
    "    # Independent variables (nparray)\n",
    "    X = beta\n",
    "    model = sm.OLS(Y, X)\n",
    "    result = model.fit(cov_type = 'HC0')\n",
    "    lambda_month.append(result.params[0])\n",
    "    lambda_std_month.append(result.bse[0])\n",
    "    lambda_residual.append(result.resid)"
   ]
  },
  {
   "cell_type": "code",
   "execution_count": 75,
   "metadata": {},
   "outputs": [
    {
     "data": {
      "text/plain": [
       "0.7155755613995085"
      ]
     },
     "execution_count": 75,
     "metadata": {},
     "output_type": "execute_result"
    }
   ],
   "source": [
    "lambda_FMB = np.array(lambda_month).mean()\n",
    "lambda_FMB"
   ]
  },
  {
   "cell_type": "code",
   "execution_count": 116,
   "metadata": {},
   "outputs": [],
   "source": [
    "var_lambda_FMB = np.array(lambda_month).var() / T"
   ]
  },
  {
   "cell_type": "code",
   "execution_count": 117,
   "metadata": {},
   "outputs": [
    {
     "data": {
      "text/plain": [
       "4.2089023266371255"
      ]
     },
     "execution_count": 117,
     "metadata": {},
     "output_type": "execute_result"
    }
   ],
   "source": [
    "lambda_FMB / np.sqrt(var_lambda_FMB)"
   ]
  },
  {
   "cell_type": "code",
   "execution_count": 95,
   "metadata": {},
   "outputs": [
    {
     "data": {
      "text/plain": [
       "array([83.70558552])"
      ]
     },
     "execution_count": 95,
     "metadata": {},
     "output_type": "execute_result"
    }
   ],
   "source": [
    "alpha = pd.DataFrame(np.array(lambda_residual)).mean()\n",
    "alpha_cov = pd.DataFrame(np.array(lambda_residual)).cov() / T\n",
    "np.array(alpha)[np.newaxis, :] @ np.linalg.inv(np.array(alpha_cov)) @ np.array(alpha)[: np.newaxis]"
   ]
  },
  {
   "cell_type": "code",
   "execution_count": 118,
   "metadata": {},
   "outputs": [
    {
     "name": "stdout",
     "output_type": "stream",
     "text": [
      "0.39179052627027966 1.2171800297482893\n",
      "0.39964710508451085 1.142839103989548\n"
     ]
    }
   ],
   "source": [
    "lambda0_month = []\n",
    "lambda1_month = []\n",
    "for i in range(ExcessReturns.shape[0]):\n",
    "    Y = np.array(ExcessReturns.iloc[i, :])[:, np.newaxis]\n",
    "    # Independent variables (nparray)\n",
    "    X = beta\n",
    "    X = sm.add_constant(X)\n",
    "    model = sm.OLS(Y, X)\n",
    "    result = model.fit(cov_type = 'HC0')\n",
    "    lambda0_month.append(result.params[0])\n",
    "    lambda1_month.append(result.params[1])\n",
    "    \n",
    "print(np.array(lambda0_month).mean(),\n",
    "      np.array(lambda0_month).mean() / np.sqrt(np.array(lambda0_month).var() / T))\n",
    "\n",
    "print(np.array(lambda1_month).mean(),\n",
    "      np.array(lambda1_month).mean() / np.sqrt(np.array(lambda1_month).var() / T))"
   ]
  },
  {
   "cell_type": "markdown",
   "metadata": {},
   "source": [
    "## GMM"
   ]
  },
  {
   "cell_type": "code",
   "execution_count": 131,
   "metadata": {},
   "outputs": [],
   "source": [
    "A = np.zeros((51, 75))\n",
    "np.fill_diagonal(A, 1)\n",
    "A[50, 50] = 0\n",
    "A[50, 50:] = beta[:, 0]"
   ]
  },
  {
   "cell_type": "code",
   "execution_count": 150,
   "metadata": {},
   "outputs": [],
   "source": [
    "D_ = np.array([[1, df['Mkt-RF'].mean()],\n",
    "              [df['Mkt-RF'].mean(), (df['Mkt-RF'] * df['Mkt-RF']).mean()],\n",
    "              [0, lambda_FMB]])\n",
    "D_ = np.kron(D_, np.eye(25))\n",
    "D = np.zeros((75, 51))\n",
    "D[:75, :50] = D_\n",
    "D[50:, 50] = beta[:, 0]\n",
    "D = -D"
   ]
  },
  {
   "cell_type": "code",
   "execution_count": 206,
   "metadata": {},
   "outputs": [],
   "source": [
    "moment1 = np.array(ExcessReturns).transpose() - np.array(alpha)[:, np.newaxis] - beta * np.array(df['Mkt-RF'])[np.newaxis, :]"
   ]
  },
  {
   "cell_type": "code",
   "execution_count": 207,
   "metadata": {},
   "outputs": [],
   "source": [
    "moment2 = (np.array(ExcessReturns).transpose() - np.array(alpha)[:, np.newaxis] - beta * np.array(df['Mkt-RF'])[np.newaxis, :]) * np.array(df['Mkt-RF'])[np.newaxis, :]"
   ]
  },
  {
   "cell_type": "code",
   "execution_count": 208,
   "metadata": {},
   "outputs": [],
   "source": [
    "moment3 = np.array(ExcessReturns).transpose() - beta * lambda_FMB"
   ]
  },
  {
   "cell_type": "code",
   "execution_count": 209,
   "metadata": {},
   "outputs": [],
   "source": [
    "moment = np.concatenate((moment1,moment2, moment3),axis=0)"
   ]
  },
  {
   "cell_type": "code",
   "execution_count": 210,
   "metadata": {},
   "outputs": [],
   "source": [
    "S = moment @ moment.transpose() / T"
   ]
  },
  {
   "cell_type": "code",
   "execution_count": 211,
   "metadata": {},
   "outputs": [],
   "source": [
    "cov_b = (1/T) * np.linalg.inv(A @ D) @ A @ S @ A.transpose() @ (np.linalg.inv(A @ D)).transpose()"
   ]
  },
  {
   "cell_type": "code",
   "execution_count": 212,
   "metadata": {},
   "outputs": [
    {
     "data": {
      "text/plain": [
       "0.026104493085800193"
      ]
     },
     "execution_count": 212,
     "metadata": {},
     "output_type": "execute_result"
    }
   ],
   "source": [
    "cov_b[-1, -1]"
   ]
  },
  {
   "cell_type": "code",
   "execution_count": 213,
   "metadata": {},
   "outputs": [
    {
     "data": {
      "text/plain": [
       "4.428920328409146"
      ]
     },
     "execution_count": 213,
     "metadata": {},
     "output_type": "execute_result"
    }
   ],
   "source": [
    "lambda_FMB / np.sqrt(cov_b[-1, -1])"
   ]
  },
  {
   "cell_type": "code",
   "execution_count": 214,
   "metadata": {},
   "outputs": [
    {
     "data": {
      "text/plain": [
       "0    -0.566544\n",
       "1    -0.302816\n",
       "2    -0.001819\n",
       "3     0.227500\n",
       "4     0.328353\n",
       "5    -0.258409\n",
       "6     0.054253\n",
       "7     0.108554\n",
       "8     0.155219\n",
       "9     0.218613\n",
       "10   -0.157844\n",
       "11    0.102941\n",
       "12    0.100854\n",
       "13    0.175074\n",
       "14    0.086880\n",
       "15   -0.031045\n",
       "16   -0.005788\n",
       "17    0.052046\n",
       "18    0.101102\n",
       "19   -0.003482\n",
       "20   -0.013043\n",
       "21   -0.045566\n",
       "22    0.009112\n",
       "23   -0.150779\n",
       "24   -0.020340\n",
       "dtype: float64"
      ]
     },
     "execution_count": 214,
     "metadata": {},
     "output_type": "execute_result"
    }
   ],
   "source": [
    "pd.DataFrame(moment3.transpose()).mean()"
   ]
  },
  {
   "cell_type": "code",
   "execution_count": 215,
   "metadata": {},
   "outputs": [
    {
     "data": {
      "text/plain": [
       "0    -1.574371\n",
       "1    -1.038979\n",
       "2    -0.006845\n",
       "3     0.920386\n",
       "4     1.195197\n",
       "5    -1.090246\n",
       "6     0.243513\n",
       "7     0.504929\n",
       "8     0.704415\n",
       "9     0.845481\n",
       "10   -0.717804\n",
       "11    0.534899\n",
       "12    0.522927\n",
       "13    0.851641\n",
       "14    0.344055\n",
       "15   -0.167107\n",
       "16   -0.032018\n",
       "17    0.273507\n",
       "18    0.497015\n",
       "19   -0.013508\n",
       "20   -0.082136\n",
       "21   -0.290001\n",
       "22    0.054522\n",
       "23   -0.768457\n",
       "24   -0.079961\n",
       "dtype: float64"
      ]
     },
     "execution_count": 215,
     "metadata": {},
     "output_type": "execute_result"
    }
   ],
   "source": [
    "np.sqrt(T) * pd.DataFrame(moment3.transpose()).mean() / pd.DataFrame(moment3.transpose()).std()"
   ]
  },
  {
   "cell_type": "code",
   "execution_count": 220,
   "metadata": {},
   "outputs": [],
   "source": [
    "cov_gb = (1/T) * (np.eye(75) - D @ np.linalg.inv(A @ D) @ A) @ S @ (np.eye(75) - D @ np.linalg.inv(A @ D) @ A).transpose()"
   ]
  },
  {
   "cell_type": "code",
   "execution_count": 221,
   "metadata": {},
   "outputs": [
    {
     "data": {
      "text/plain": [
       "array([[78.9646345]])"
      ]
     },
     "execution_count": 221,
     "metadata": {},
     "output_type": "execute_result"
    }
   ],
   "source": [
    "moment.mean(axis = 1)[np.newaxis, :] @ np.linalg.pinv(cov_gb) @ moment.mean(axis = 1)[:, np.newaxis]"
   ]
  },
  {
   "cell_type": "code",
   "execution_count": 234,
   "metadata": {},
   "outputs": [],
   "source": [
    "lags = 12\n",
    "S_nw = moment @ moment.transpose() / T\n",
    "for j in range(1, lags + 1):\n",
    "    S_nw += (2 * moment[:, :-j] @ moment[:, j:].transpose() / (T - j)) * (lags + 1 - j) / (lags + 1)"
   ]
  },
  {
   "cell_type": "code",
   "execution_count": 235,
   "metadata": {},
   "outputs": [
    {
     "data": {
      "text/plain": [
       "4.178448872024355"
      ]
     },
     "execution_count": 235,
     "metadata": {},
     "output_type": "execute_result"
    }
   ],
   "source": [
    "cov_b = (1/T) * np.linalg.inv(A @ D) @ A @ S_nw @ A.transpose() @ (np.linalg.inv(A @ D)).transpose()\n",
    "lambda_FMB / np.sqrt(cov_b[-1, -1])"
   ]
  },
  {
   "cell_type": "code",
   "execution_count": null,
   "metadata": {},
   "outputs": [],
   "source": []
  }
 ],
 "metadata": {
  "kernelspec": {
   "display_name": "Python 3",
   "language": "python",
   "name": "python3"
  },
  "language_info": {
   "codemirror_mode": {
    "name": "ipython",
    "version": 3
   },
   "file_extension": ".py",
   "mimetype": "text/x-python",
   "name": "python",
   "nbconvert_exporter": "python",
   "pygments_lexer": "ipython3",
   "version": "3.6.4"
  }
 },
 "nbformat": 4,
 "nbformat_minor": 2
}
