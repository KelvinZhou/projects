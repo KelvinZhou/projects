{
 "cells": [
  {
   "cell_type": "code",
   "execution_count": 49,
   "metadata": {},
   "outputs": [],
   "source": [
    "import numpy as np\n",
    "import pandas as pd\n",
    "import matplotlib.pyplot as plt\n",
    "from matplotlib import cycler\n",
    "from scipy import stats\n",
    "import statsmodels.api as sm"
   ]
  },
  {
   "cell_type": "code",
   "execution_count": 50,
   "metadata": {},
   "outputs": [
    {
     "data": {
      "text/html": [
       "<div>\n",
       "<style scoped>\n",
       "    .dataframe tbody tr th:only-of-type {\n",
       "        vertical-align: middle;\n",
       "    }\n",
       "\n",
       "    .dataframe tbody tr th {\n",
       "        vertical-align: top;\n",
       "    }\n",
       "\n",
       "    .dataframe thead th {\n",
       "        text-align: right;\n",
       "    }\n",
       "</style>\n",
       "<table border=\"1\" class=\"dataframe\">\n",
       "  <thead>\n",
       "    <tr style=\"text-align: right;\">\n",
       "      <th></th>\n",
       "      <th>year</th>\n",
       "      <th>NoDur</th>\n",
       "      <th>Durbl</th>\n",
       "      <th>Manuf</th>\n",
       "      <th>Enrgy</th>\n",
       "      <th>HiTec</th>\n",
       "      <th>Telcm</th>\n",
       "      <th>Shops</th>\n",
       "      <th>Hlth</th>\n",
       "      <th>Utils</th>\n",
       "      <th>Other</th>\n",
       "    </tr>\n",
       "  </thead>\n",
       "  <tbody>\n",
       "    <tr>\n",
       "      <td>0</td>\n",
       "      <td>192607</td>\n",
       "      <td>1.45</td>\n",
       "      <td>15.55</td>\n",
       "      <td>4.69</td>\n",
       "      <td>-1.18</td>\n",
       "      <td>2.90</td>\n",
       "      <td>0.83</td>\n",
       "      <td>0.11</td>\n",
       "      <td>1.77</td>\n",
       "      <td>7.04</td>\n",
       "      <td>2.16</td>\n",
       "    </tr>\n",
       "    <tr>\n",
       "      <td>1</td>\n",
       "      <td>192608</td>\n",
       "      <td>3.97</td>\n",
       "      <td>3.68</td>\n",
       "      <td>2.81</td>\n",
       "      <td>3.47</td>\n",
       "      <td>2.66</td>\n",
       "      <td>2.17</td>\n",
       "      <td>-0.71</td>\n",
       "      <td>4.25</td>\n",
       "      <td>-1.69</td>\n",
       "      <td>4.38</td>\n",
       "    </tr>\n",
       "    <tr>\n",
       "      <td>2</td>\n",
       "      <td>192609</td>\n",
       "      <td>1.14</td>\n",
       "      <td>4.80</td>\n",
       "      <td>1.15</td>\n",
       "      <td>-3.39</td>\n",
       "      <td>-0.38</td>\n",
       "      <td>2.41</td>\n",
       "      <td>0.21</td>\n",
       "      <td>0.69</td>\n",
       "      <td>2.04</td>\n",
       "      <td>0.29</td>\n",
       "    </tr>\n",
       "    <tr>\n",
       "      <td>3</td>\n",
       "      <td>192610</td>\n",
       "      <td>-1.24</td>\n",
       "      <td>-8.23</td>\n",
       "      <td>-3.63</td>\n",
       "      <td>-0.78</td>\n",
       "      <td>-4.58</td>\n",
       "      <td>-0.11</td>\n",
       "      <td>-2.29</td>\n",
       "      <td>-0.57</td>\n",
       "      <td>-2.63</td>\n",
       "      <td>-2.85</td>\n",
       "    </tr>\n",
       "    <tr>\n",
       "      <td>4</td>\n",
       "      <td>192611</td>\n",
       "      <td>5.20</td>\n",
       "      <td>-0.19</td>\n",
       "      <td>4.10</td>\n",
       "      <td>0.01</td>\n",
       "      <td>4.71</td>\n",
       "      <td>1.63</td>\n",
       "      <td>6.43</td>\n",
       "      <td>5.42</td>\n",
       "      <td>3.71</td>\n",
       "      <td>2.11</td>\n",
       "    </tr>\n",
       "    <tr>\n",
       "      <td>...</td>\n",
       "      <td>...</td>\n",
       "      <td>...</td>\n",
       "      <td>...</td>\n",
       "      <td>...</td>\n",
       "      <td>...</td>\n",
       "      <td>...</td>\n",
       "      <td>...</td>\n",
       "      <td>...</td>\n",
       "      <td>...</td>\n",
       "      <td>...</td>\n",
       "      <td>...</td>\n",
       "    </tr>\n",
       "    <tr>\n",
       "      <td>1124</td>\n",
       "      <td>202003</td>\n",
       "      <td>-11.49</td>\n",
       "      <td>-22.70</td>\n",
       "      <td>-16.86</td>\n",
       "      <td>-34.61</td>\n",
       "      <td>-9.82</td>\n",
       "      <td>-13.39</td>\n",
       "      <td>-7.58</td>\n",
       "      <td>-5.33</td>\n",
       "      <td>-13.02</td>\n",
       "      <td>-18.90</td>\n",
       "    </tr>\n",
       "    <tr>\n",
       "      <td>1125</td>\n",
       "      <td>202004</td>\n",
       "      <td>8.01</td>\n",
       "      <td>25.75</td>\n",
       "      <td>11.04</td>\n",
       "      <td>32.33</td>\n",
       "      <td>15.18</td>\n",
       "      <td>9.64</td>\n",
       "      <td>18.02</td>\n",
       "      <td>13.09</td>\n",
       "      <td>4.98</td>\n",
       "      <td>10.42</td>\n",
       "    </tr>\n",
       "    <tr>\n",
       "      <td>1126</td>\n",
       "      <td>202005</td>\n",
       "      <td>3.30</td>\n",
       "      <td>7.30</td>\n",
       "      <td>5.96</td>\n",
       "      <td>0.55</td>\n",
       "      <td>8.33</td>\n",
       "      <td>4.86</td>\n",
       "      <td>4.38</td>\n",
       "      <td>3.97</td>\n",
       "      <td>4.57</td>\n",
       "      <td>4.05</td>\n",
       "    </tr>\n",
       "    <tr>\n",
       "      <td>1127</td>\n",
       "      <td>202006</td>\n",
       "      <td>-0.03</td>\n",
       "      <td>14.20</td>\n",
       "      <td>2.56</td>\n",
       "      <td>-0.37</td>\n",
       "      <td>6.00</td>\n",
       "      <td>-2.44</td>\n",
       "      <td>4.21</td>\n",
       "      <td>-1.76</td>\n",
       "      <td>-5.04</td>\n",
       "      <td>0.00</td>\n",
       "    </tr>\n",
       "    <tr>\n",
       "      <td>1128</td>\n",
       "      <td>202007</td>\n",
       "      <td>5.83</td>\n",
       "      <td>18.73</td>\n",
       "      <td>4.47</td>\n",
       "      <td>-4.77</td>\n",
       "      <td>6.90</td>\n",
       "      <td>5.09</td>\n",
       "      <td>9.53</td>\n",
       "      <td>4.44</td>\n",
       "      <td>6.37</td>\n",
       "      <td>3.62</td>\n",
       "    </tr>\n",
       "  </tbody>\n",
       "</table>\n",
       "<p>1129 rows × 11 columns</p>\n",
       "</div>"
      ],
      "text/plain": [
       "        year  NoDur  Durbl  Manuf  Enrgy  HiTec  Telcm  Shops  Hlth   Utils  \\\n",
       "0     192607   1.45  15.55   4.69  -1.18   2.90   0.83   0.11   1.77   7.04   \n",
       "1     192608   3.97   3.68   2.81   3.47   2.66   2.17  -0.71   4.25  -1.69   \n",
       "2     192609   1.14   4.80   1.15  -3.39  -0.38   2.41   0.21   0.69   2.04   \n",
       "3     192610  -1.24  -8.23  -3.63  -0.78  -4.58  -0.11  -2.29  -0.57  -2.63   \n",
       "4     192611   5.20  -0.19   4.10   0.01   4.71   1.63   6.43   5.42   3.71   \n",
       "...      ...    ...    ...    ...    ...    ...    ...    ...    ...    ...   \n",
       "1124  202003 -11.49 -22.70 -16.86 -34.61  -9.82 -13.39  -7.58  -5.33 -13.02   \n",
       "1125  202004   8.01  25.75  11.04  32.33  15.18   9.64  18.02  13.09   4.98   \n",
       "1126  202005   3.30   7.30   5.96   0.55   8.33   4.86   4.38   3.97   4.57   \n",
       "1127  202006  -0.03  14.20   2.56  -0.37   6.00  -2.44   4.21  -1.76  -5.04   \n",
       "1128  202007   5.83  18.73   4.47  -4.77   6.90   5.09   9.53   4.44   6.37   \n",
       "\n",
       "      Other  \n",
       "0      2.16  \n",
       "1      4.38  \n",
       "2      0.29  \n",
       "3     -2.85  \n",
       "4      2.11  \n",
       "...     ...  \n",
       "1124 -18.90  \n",
       "1125  10.42  \n",
       "1126   4.05  \n",
       "1127   0.00  \n",
       "1128   3.62  \n",
       "\n",
       "[1129 rows x 11 columns]"
      ]
     },
     "execution_count": 50,
     "metadata": {},
     "output_type": "execute_result"
    }
   ],
   "source": [
    "df = pd.read_csv('10_Industry_Portfolios.csv')\n",
    "df"
   ]
  },
  {
   "cell_type": "code",
   "execution_count": 51,
   "metadata": {},
   "outputs": [
    {
     "data": {
      "text/plain": [
       "year     False\n",
       "NoDur    False\n",
       "Durbl    False\n",
       "Manuf    False\n",
       "Enrgy    False\n",
       "HiTec    False\n",
       "Telcm    False\n",
       "Shops    False\n",
       "Hlth     False\n",
       "Utils    False\n",
       "Other    False\n",
       "dtype: bool"
      ]
     },
     "execution_count": 51,
     "metadata": {},
     "output_type": "execute_result"
    }
   ],
   "source": [
    "# missing value is marked as -99.99 or -999\n",
    "(df.isin([-99.99, -999])).any()"
   ]
  },
  {
   "cell_type": "code",
   "execution_count": 52,
   "metadata": {},
   "outputs": [
    {
     "data": {
      "text/plain": [
       "array([0.95876882, 1.10244464, 1.01219663, 0.95164748, 1.13375554,\n",
       "       0.85160319, 1.03370239, 1.08410097, 0.87232064, 0.89959256])"
      ]
     },
     "execution_count": 52,
     "metadata": {},
     "output_type": "execute_result"
    }
   ],
   "source": [
    "R = np.array(df.mean()[1:])\n",
    "R"
   ]
  },
  {
   "cell_type": "code",
   "execution_count": 53,
   "metadata": {},
   "outputs": [
    {
     "data": {
      "text/plain": [
       "array([[21.04534715, 26.1983078 , 24.23348542, 17.8332085 , 24.32493911,\n",
       "        14.44180596, 23.01873284, 20.23788573, 17.84249045, 24.68860101],\n",
       "       [26.1983078 , 59.73830998, 41.90543017, 30.03650271, 43.16549613,\n",
       "        22.51275902, 35.80329927, 27.26825761, 25.94875602, 39.89932139],\n",
       "       [24.23348542, 41.90543017, 38.84361716, 28.61902625, 38.71932986,\n",
       "        19.76235552, 30.7096408 , 26.24097237, 23.73466032, 36.25522403],\n",
       "       [17.8332085 , 30.03650271, 28.61902625, 39.29771023, 27.50634726,\n",
       "        15.12001987, 21.47384868, 19.52714705, 20.80503935, 27.83652346],\n",
       "       [24.32493911, 43.16549613, 38.71932986, 27.50634726, 51.95089032,\n",
       "        22.61665497, 33.28749238, 28.81715657, 24.39246459, 36.95890047],\n",
       "       [14.44180596, 22.51275902, 19.76235552, 15.12001987, 22.61665497,\n",
       "        21.14955159, 18.19331126, 15.47229732, 15.92337562, 20.86463886],\n",
       "       [23.01873284, 35.80329927, 30.7096408 , 21.47384868, 33.28749238,\n",
       "        18.19331126, 33.76156766, 24.02049659, 20.70486543, 30.76315169],\n",
       "       [20.23788573, 27.26825761, 26.24097237, 19.52714705, 28.81715657,\n",
       "        15.47229732, 24.02049659, 30.78720453, 18.83322824, 26.26838589],\n",
       "       [17.84249045, 25.94875602, 23.73466032, 20.80503935, 24.39246459,\n",
       "        15.92337562, 20.70486543, 18.83322824, 30.20721269, 25.31281761],\n",
       "       [24.68860101, 39.89932139, 36.25522403, 27.83652346, 36.95890047,\n",
       "        20.86463886, 30.76315169, 26.26838589, 25.31281761, 41.01770888]])"
      ]
     },
     "execution_count": 53,
     "metadata": {},
     "output_type": "execute_result"
    }
   ],
   "source": [
    "V = np.array(df.iloc[:, 1: 11].cov())\n",
    "V"
   ]
  },
  {
   "cell_type": "code",
   "execution_count": 54,
   "metadata": {},
   "outputs": [
    {
     "data": {
      "text/plain": [
       "array([[0.06153671, 0.06238345],\n",
       "       [0.06238345, 0.07051788]])"
      ]
     },
     "execution_count": 54,
     "metadata": {},
     "output_type": "execute_result"
    }
   ],
   "source": [
    "A = np.array([R, np.ones(10)]) @ np.linalg.inv(V) @ np.array([R, np.ones(10)]).transpose()\n",
    "A"
   ]
  },
  {
   "cell_type": "code",
   "execution_count": 55,
   "metadata": {},
   "outputs": [],
   "source": [
    "r_f = 0.33"
   ]
  },
  {
   "cell_type": "code",
   "execution_count": 56,
   "metadata": {},
   "outputs": [],
   "source": [
    "def weight(r):\n",
    "    return np.linalg.inv(V) @ np.array([R, np.ones(10)]).transpose() @ np.linalg.inv(A) @ np.array([r, 1])[:, np.newaxis]"
   ]
  },
  {
   "cell_type": "markdown",
   "metadata": {},
   "source": [
    "### Minimum variance portfolio"
   ]
  },
  {
   "cell_type": "code",
   "execution_count": 57,
   "metadata": {},
   "outputs": [
    {
     "data": {
      "text/plain": [
       "0.8846471867380211"
      ]
     },
     "execution_count": 57,
     "metadata": {},
     "output_type": "execute_result"
    }
   ],
   "source": [
    "r_g = A[0, 1] / A[1, 1]\n",
    "r_g"
   ]
  },
  {
   "cell_type": "code",
   "execution_count": 58,
   "metadata": {},
   "outputs": [
    {
     "data": {
      "text/plain": [
       "array([[ 0.74667358],\n",
       "       [-0.07431814],\n",
       "       [-0.11023423],\n",
       "       [ 0.17879179],\n",
       "       [-0.09669704],\n",
       "       [ 0.54077345],\n",
       "       [-0.0459573 ],\n",
       "       [ 0.08936285],\n",
       "       [ 0.09826704],\n",
       "       [-0.32666199]])"
      ]
     },
     "execution_count": 58,
     "metadata": {},
     "output_type": "execute_result"
    }
   ],
   "source": [
    "x_g = weight(r_g)\n",
    "x_g"
   ]
  },
  {
   "cell_type": "code",
   "execution_count": 59,
   "metadata": {},
   "outputs": [
    {
     "data": {
      "text/plain": [
       "array([[3.76574028]])"
      ]
     },
     "execution_count": 59,
     "metadata": {},
     "output_type": "execute_result"
    }
   ],
   "source": [
    "np.sqrt(x_t.transpose() @ V @ x_g)"
   ]
  },
  {
   "cell_type": "markdown",
   "metadata": {},
   "source": [
    "### Tangency portfolio"
   ]
  },
  {
   "cell_type": "code",
   "execution_count": 60,
   "metadata": {},
   "outputs": [
    {
     "data": {
      "text/plain": [
       "1.0469830933742499"
      ]
     },
     "execution_count": 60,
     "metadata": {},
     "output_type": "execute_result"
    }
   ],
   "source": [
    "r_t = (A[0, 0] - A[0, 1] * r_f) / (A[0, 1] - A[1, 1] * r_f)\n",
    "r_t"
   ]
  },
  {
   "cell_type": "code",
   "execution_count": 61,
   "metadata": {},
   "outputs": [
    {
     "data": {
      "text/plain": [
       "array([[ 0.74089332],\n",
       "       [ 0.09246424],\n",
       "       [-0.17452734],\n",
       "       [ 0.21315115],\n",
       "       [ 0.13265099],\n",
       "       [ 0.27367135],\n",
       "       [ 0.05926835],\n",
       "       [ 0.36749421],\n",
       "       [ 0.01229388],\n",
       "       [-0.71736013]])"
      ]
     },
     "execution_count": 61,
     "metadata": {},
     "output_type": "execute_result"
    }
   ],
   "source": [
    "x_t = weight(r_t)\n",
    "x_t"
   ]
  },
  {
   "cell_type": "code",
   "execution_count": 110,
   "metadata": {},
   "outputs": [
    {
     "data": {
      "text/plain": [
       "array([[4.28150459]])"
      ]
     },
     "execution_count": 110,
     "metadata": {},
     "output_type": "execute_result"
    }
   ],
   "source": [
    "np.sqrt(x_t.transpose() @ V @ x_t)"
   ]
  },
  {
   "cell_type": "markdown",
   "metadata": {},
   "source": [
    "### Efficient frontier"
   ]
  },
  {
   "cell_type": "code",
   "execution_count": 63,
   "metadata": {},
   "outputs": [],
   "source": [
    "def frontier_sigma(r):\n",
    "    return np.sqrt(np.array([r, 1]) @ np.linalg.inv(A) @ np.array([r, 1])[:, np.newaxis])\n",
    "vfrontier_sigma = np.vectorize(frontier_sigma)"
   ]
  },
  {
   "cell_type": "code",
   "execution_count": 72,
   "metadata": {},
   "outputs": [
    {
     "data": {
      "image/png": "[encoded data removed]",
      "text/plain": [
       "<matplotlib.figure.Figure at 0x11c674fd0>"
      ]
     },
     "metadata": {},
     "output_type": "display_data"
    }
   ],
   "source": [
    "# ax will be an array of Axes objects\n",
    "fig, ax = plt.subplots(figsize=(7, 7))\n",
    "ax.set_prop_cycle(cycler('color', ['#0066a1', '#ce753b', '#b85696', '#31686c', '#853c42']))\n",
    "\n",
    "# Call plot() method on the appropriate object\n",
    "ax.plot(vfrontier_sigma(np.linspace(0 ,2, 100)), np.linspace(0 ,2, 100), linewidth=0.7)\n",
    "ax.scatter(np.sqrt(V.diagonal()), R, s = 10)\n",
    "ax.scatter(4.28150459, r_t, s = 40)\n",
    "\n",
    "ax.set_xlabel(r'$\\sigma$', fontsize = 12)\n",
    "ax.set_ylabel(r'$E(r)$', fontsize = 12)\n",
    "ax.xaxis.set_major_locator(plt.MultipleLocator(2))\n",
    "ax.yaxis.set_major_locator(plt.MultipleLocator(0.2));"
   ]
  },
  {
   "cell_type": "code",
   "execution_count": 73,
   "metadata": {},
   "outputs": [],
   "source": [
    "fig.savefig('q2fig1.pdf', format = 'pdf')"
   ]
  },
  {
   "cell_type": "markdown",
   "metadata": {},
   "source": [
    "### Monte Carlo simulation"
   ]
  },
  {
   "cell_type": "code",
   "execution_count": 120,
   "metadata": {},
   "outputs": [],
   "source": [
    "R_mvp_simulate = []\n",
    "R_tangency_simulate = []\n",
    "std_mvp_simulate = []\n",
    "std_tangency_simulate = []\n",
    "\n",
    "for i in range(1000):\n",
    "    sample = stats.multivariate_normal.rvs(mean = R, cov = V, size = df.shape[0])\n",
    "    R_simulate = np.array(pd.DataFrame(sample).mean())\n",
    "    V_simulate = np.array(pd.DataFrame(sample).cov())\n",
    "    A_simulate = np.array([R_simulate, np.ones(10)]) @ np.linalg.inv(V_simulate) @ np.array([R_simulate, np.ones(10)]).transpose()\n",
    "    r_g_simulate = A_simulate[0, 1] / A_simulate[1, 1]\n",
    "    x_g_simulate = np.linalg.inv(V_simulate) @ np.array([R_simulate, np.ones(10)]).transpose() @ np.linalg.inv(A_simulate) @ np.array([r_g_simulate, 1])[:, np.newaxis]\n",
    "    r_t_simulate = (A_simulate[0, 0] - A_simulate[0, 1] * r_f) / (A_simulate[0, 1] - A_simulate[1, 1] * r_f)\n",
    "    x_t_simulate = np.linalg.inv(V_simulate) @ np.array([R_simulate, np.ones(10)]).transpose() @ np.linalg.inv(A_simulate) @ np.array([r_t_simulate, 1])[:, np.newaxis]\n",
    "\n",
    "    R_mvp_simulate.append((R @ x_g_simulate)[0])\n",
    "    R_tangency_simulate.append((R @ x_t_simulate)[0])\n",
    "    std_mvp_simulate.append(np.sqrt(x_g_simulate.transpose() @ V @ x_g_simulate)[0, 0])\n",
    "    std_tangency_simulate.append(np.sqrt(x_t_simulate.transpose() @ V @ x_t_simulate)[0, 0])\n",
    "    \n",
    "    \n",
    "    \n",
    "    \n",
    "    \n",
    "    "
   ]
  },
  {
   "cell_type": "code",
   "execution_count": 135,
   "metadata": {},
   "outputs": [
    {
     "data": {
      "image/png": "[encoded data removed]",
      "text/plain": [
       "<matplotlib.figure.Figure at 0x12b0d3e10>"
      ]
     },
     "metadata": {},
     "output_type": "display_data"
    }
   ],
   "source": [
    "# ax will be an array of Axes objects\n",
    "fig, ax = plt.subplots(1, 2, figsize=(14, 7))\n",
    "ax[0].set_prop_cycle(cycler('color', ['#0066a1', '#ce753b', '#b85696', '#31686c', '#853c42']))\n",
    "ax[1].set_prop_cycle(cycler('color', ['#0066a1', '#ce753b', '#b85696', '#31686c', '#853c42']))\n",
    "\n",
    "# Call plot() method on the appropriate object\n",
    "ax[0].scatter(std_mvp_simulate, R_mvp_simulate, s = 10)\n",
    "ax[0].scatter(3.76574028, r_g, s = 50)\n",
    "\n",
    "ax[0].set_xlabel(r'$\\sigma$', fontsize = 12)\n",
    "ax[0].set_ylabel(r'$E(r)$', fontsize = 12)\n",
    "ax[0].xaxis.set_major_locator(plt.MultipleLocator(0.01))\n",
    "ax[0].yaxis.set_major_locator(plt.MultipleLocator(0.01))\n",
    "ax[0].set_title('MVP')\n",
    "\n",
    "ax[1].scatter(std_tangency_simulate, R_tangency_simulate, s = 10)\n",
    "ax[1].scatter(4.28150459, r_t, s = 50)\n",
    "\n",
    "ax[1].set_xlabel(r'$\\sigma$', fontsize = 12)\n",
    "ax[1].set_ylabel(r'$E(r)$', fontsize = 12)\n",
    "ax[1].xaxis.set_major_locator(plt.MultipleLocator(1))\n",
    "ax[1].yaxis.set_major_locator(plt.MultipleLocator(0.1))\n",
    "ax[1].set_title('Tangency Portfolio');"
   ]
  },
  {
   "cell_type": "code",
   "execution_count": 136,
   "metadata": {},
   "outputs": [],
   "source": [
    "fig.savefig('q2fig2.pdf', format = 'pdf')"
   ]
  },
  {
   "cell_type": "markdown",
   "metadata": {},
   "source": [
    "### Block bootstrap simulation"
   ]
  },
  {
   "cell_type": "code",
   "execution_count": 149,
   "metadata": {},
   "outputs": [],
   "source": [
    "R_mvp_simulate = []\n",
    "R_tangency_simulate = []\n",
    "std_mvp_simulate = []\n",
    "std_tangency_simulate = []\n",
    "\n",
    "for i in range(1000):\n",
    "    sample = df.iloc[np.random.choice(df.shape[0], df.shape[0]), 1:].reset_index(drop = True)\n",
    "    R_simulate = np.array(sample.mean())\n",
    "    V_simulate = np.array(sample.cov())\n",
    "    A_simulate = np.array([R_simulate, np.ones(10)]) @ np.linalg.inv(V_simulate) @ np.array([R_simulate, np.ones(10)]).transpose()\n",
    "    r_g_simulate = A_simulate[0, 1] / A_simulate[1, 1]\n",
    "    x_g_simulate = np.linalg.inv(V_simulate) @ np.array([R_simulate, np.ones(10)]).transpose() @ np.linalg.inv(A_simulate) @ np.array([r_g_simulate, 1])[:, np.newaxis]\n",
    "    r_t_simulate = (A_simulate[0, 0] - A_simulate[0, 1] * r_f) / (A_simulate[0, 1] - A_simulate[1, 1] * r_f)\n",
    "    x_t_simulate = np.linalg.inv(V_simulate) @ np.array([R_simulate, np.ones(10)]).transpose() @ np.linalg.inv(A_simulate) @ np.array([r_t_simulate, 1])[:, np.newaxis]\n",
    "\n",
    "    R_mvp_simulate.append((R @ x_g_simulate)[0])\n",
    "    R_tangency_simulate.append((R @ x_t_simulate)[0])\n",
    "    std_mvp_simulate.append(np.sqrt(x_g_simulate.transpose() @ V @ x_g_simulate)[0, 0])\n",
    "    std_tangency_simulate.append(np.sqrt(x_t_simulate.transpose() @ V @ x_t_simulate)[0, 0])\n",
    "    "
   ]
  },
  {
   "cell_type": "code",
   "execution_count": 150,
   "metadata": {},
   "outputs": [
    {
     "data": {
      "image/png": "[encoded data removed]",
      "text/plain": [
       "<matplotlib.figure.Figure at 0x12c4452b0>"
      ]
     },
     "metadata": {},
     "output_type": "display_data"
    }
   ],
   "source": [
    "# ax will be an array of Axes objects\n",
    "fig, ax = plt.subplots(1, 2, figsize=(14, 7))\n",
    "ax[0].set_prop_cycle(cycler('color', ['#0066a1', '#ce753b', '#b85696', '#31686c', '#853c42']))\n",
    "ax[1].set_prop_cycle(cycler('color', ['#0066a1', '#ce753b', '#b85696', '#31686c', '#853c42']))\n",
    "\n",
    "# Call plot() method on the appropriate object\n",
    "ax[0].scatter(std_mvp_simulate, R_mvp_simulate, s = 10)\n",
    "ax[0].scatter(3.76574028, r_g, s = 50)\n",
    "\n",
    "ax[0].set_xlabel(r'$\\sigma$', fontsize = 12)\n",
    "ax[0].set_ylabel(r'$E(r)$', fontsize = 12)\n",
    "ax[0].xaxis.set_major_locator(plt.MultipleLocator(0.01))\n",
    "ax[0].yaxis.set_major_locator(plt.MultipleLocator(0.01))\n",
    "ax[0].set_title('MVP')\n",
    "\n",
    "ax[1].scatter(std_tangency_simulate, R_tangency_simulate, s = 10)\n",
    "ax[1].scatter(4.28150459, r_t, s = 50)\n",
    "\n",
    "ax[1].set_xlabel(r'$\\sigma$', fontsize = 12)\n",
    "ax[1].set_ylabel(r'$E(r)$', fontsize = 12)\n",
    "ax[1].xaxis.set_major_locator(plt.MultipleLocator(1))\n",
    "ax[1].yaxis.set_major_locator(plt.MultipleLocator(0.1))\n",
    "ax[1].set_title('Tangency Portfolio');"
   ]
  },
  {
   "cell_type": "code",
   "execution_count": 151,
   "metadata": {},
   "outputs": [],
   "source": [
    "fig.savefig('q2fig3.pdf', format = 'pdf')"
   ]
  },
  {
   "cell_type": "markdown",
   "metadata": {},
   "source": [
    "### A simple asset pricing test"
   ]
  },
  {
   "cell_type": "code",
   "execution_count": 162,
   "metadata": {},
   "outputs": [],
   "source": [
    "exrtn_tangency = np.array(df.iloc[:, 1:]) @ x_t - 0.33"
   ]
  },
  {
   "cell_type": "code",
   "execution_count": 167,
   "metadata": {},
   "outputs": [],
   "source": [
    "alpha = []\n",
    "beta = []\n",
    "\n",
    "for i in range(1, 11):\n",
    "    # Dependent variable (nparray)\n",
    "    Y = np.array(df.iloc[:, i])[:, np.newaxis] - 0.33\n",
    "    # Independent variables (nparray)\n",
    "    X = exrtn_tangency\n",
    "    X = sm.add_constant(X)\n",
    "    model = sm.OLS(Y, X)\n",
    "    result = model.fit()\n",
    "    alpha.append(result.params[0])\n",
    "    beta.append(result.params[1])"
   ]
  },
  {
   "cell_type": "code",
   "execution_count": 168,
   "metadata": {},
   "outputs": [
    {
     "data": {
      "text/plain": [
       "[2.624636619152909e-15,\n",
       " 1.9845236565174673e-15,\n",
       " 2.310651670001107e-15,\n",
       " 1.915134717478395e-15,\n",
       " 1.2628786905111156e-15,\n",
       " 4.2049697057677804e-15,\n",
       " 2.67841304690819e-15,\n",
       " 2.345346139520643e-15,\n",
       " 3.5180192092809648e-15,\n",
       " 4.2674197509029455e-15]"
      ]
     },
     "execution_count": 168,
     "metadata": {},
     "output_type": "execute_result"
    }
   ],
   "source": [
    "alpha"
   ]
  },
  {
   "cell_type": "code",
   "execution_count": 169,
   "metadata": {},
   "outputs": [
    {
     "data": {
      "text/plain": [
       "[0.8769646422306054,\n",
       " 1.0773540525763365,\n",
       " 0.9514821764890021,\n",
       " 0.8670322653168546,\n",
       " 1.1210243913700102,\n",
       " 0.7274971941217941,\n",
       " 0.9814769664723215,\n",
       " 1.051769534431585,\n",
       " 0.75639250457113,\n",
       " 0.7944295549659568]"
      ]
     },
     "execution_count": 169,
     "metadata": {},
     "output_type": "execute_result"
    }
   ],
   "source": [
    "beta"
   ]
  },
  {
   "cell_type": "code",
   "execution_count": 171,
   "metadata": {},
   "outputs": [
    {
     "data": {
      "text/plain": [
       "array([0.62876882, 0.77244464, 0.68219663, 0.62164748, 0.80375554,\n",
       "       0.52160319, 0.70370239, 0.75410097, 0.54232064, 0.56959256])"
      ]
     },
     "execution_count": 171,
     "metadata": {},
     "output_type": "execute_result"
    }
   ],
   "source": [
    "R - 0.33"
   ]
  },
  {
   "cell_type": "code",
   "execution_count": 195,
   "metadata": {},
   "outputs": [
    {
     "data": {
      "image/png": "[encoded data removed]",
      "text/plain": [
       "<matplotlib.figure.Figure at 0x128271b00>"
      ]
     },
     "metadata": {},
     "output_type": "display_data"
    }
   ],
   "source": [
    "# ax will be an array of Axes objects\n",
    "fig, ax = plt.subplots(figsize=(7, 7))\n",
    "ax.set_prop_cycle(cycler('color', ['#0066a1', '#ce753b', '#b85696', '#31686c', '#853c42']))\n",
    "\n",
    "# Call plot() method on the appropriate object\n",
    "ax.plot(np.array(beta) * exrtn_tangency.mean(), R - 0.33, linewidth=0.7)\n",
    "ax.scatter(np.array(beta) * exrtn_tangency.mean(), R - 0.33)\n",
    "for i, txt in enumerate(df.columns[1:]):\n",
    "    ax.annotate(txt, ((np.array(beta) * exrtn_tangency.mean())[i] + 0.005, (R - 0.33)[i] - 0.005))\n",
    "\n",
    "ax.set_xlabel('model-based expected excess return', fontsize = 12)\n",
    "ax.set_ylabel('average excess return', fontsize = 12)\n",
    "ax.xaxis.set_major_locator(plt.MultipleLocator(0.1))\n",
    "ax.yaxis.set_major_locator(plt.MultipleLocator(0.1));"
   ]
  },
  {
   "cell_type": "code",
   "execution_count": 196,
   "metadata": {},
   "outputs": [],
   "source": [
    "fig.savefig('q2fig4.pdf', format = 'pdf')"
   ]
  },
  {
   "cell_type": "markdown",
   "metadata": {},
   "source": [
    "### An out-of-sample asset pricing test"
   ]
  },
  {
   "cell_type": "code",
   "execution_count": 199,
   "metadata": {},
   "outputs": [],
   "source": [
    "df_insample = df[df['year'] < 197300]\n",
    "df_outofsample = df[df['year'] > 197300]"
   ]
  },
  {
   "cell_type": "code",
   "execution_count": 200,
   "metadata": {},
   "outputs": [],
   "source": [
    "R_insample = np.array(df_insample.mean()[1:])\n",
    "V_insample = np.array(df_insample.iloc[:, 1: 11].cov())\n",
    "A_insample = np.array([R_insample, np.ones(10)]) @ np.linalg.inv(V_insample) @ np.array([R_insample, np.ones(10)]).transpose()\n",
    "r_t_insample = (A_insample[0, 0] - A_insample[0, 1] * r_f) / (A_insample[0, 1] - A_insample[1, 1] * r_f)\n",
    "x_t_insample = np.linalg.inv(V_insample) @ np.array([R_insample, np.ones(10)]).transpose() @ np.linalg.inv(A_insample) @ np.array([r_t_insample, 1])[:, np.newaxis]"
   ]
  },
  {
   "cell_type": "code",
   "execution_count": 201,
   "metadata": {},
   "outputs": [],
   "source": [
    "exrtn_tangency_outofsample = np.array(df_outofsample.iloc[:, 1:]) @ x_t_insample - 0.33"
   ]
  },
  {
   "cell_type": "code",
   "execution_count": 202,
   "metadata": {},
   "outputs": [],
   "source": [
    "alpha = []\n",
    "beta = []\n",
    "\n",
    "for i in range(1, 11):\n",
    "    # Dependent variable (nparray)\n",
    "    Y = np.array(df_outofsample.iloc[:, i])[:, np.newaxis] - 0.33\n",
    "    # Independent variables (nparray)\n",
    "    X = exrtn_tangency_outofsample\n",
    "    X = sm.add_constant(X)\n",
    "    model = sm.OLS(Y, X)\n",
    "    result = model.fit()\n",
    "    alpha.append(result.params[0])\n",
    "    beta.append(result.params[1])"
   ]
  },
  {
   "cell_type": "code",
   "execution_count": 203,
   "metadata": {},
   "outputs": [
    {
     "data": {
      "text/plain": [
       "[0.4320107112489559,\n",
       " 0.07323133667260512,\n",
       " 0.25889239276962833,\n",
       " 0.19113269343352896,\n",
       " 0.08073859037115907,\n",
       " 0.20991034598146208,\n",
       " 0.3437237170689636,\n",
       " 0.21984122274287538,\n",
       " 0.44378837600960264,\n",
       " 0.23463791511252716]"
      ]
     },
     "execution_count": 203,
     "metadata": {},
     "output_type": "execute_result"
    }
   ],
   "source": [
    "alpha"
   ]
  },
  {
   "cell_type": "code",
   "execution_count": 204,
   "metadata": {},
   "outputs": [
    {
     "data": {
      "text/plain": [
       "[0.4059404126314288,\n",
       " 0.6884909188452741,\n",
       " 0.5266279888801499,\n",
       " 0.5335755027139294,\n",
       " 0.8767014696922573,\n",
       " 0.5587425235832781,\n",
       " 0.525002506057063,\n",
       " 0.6459208313425329,\n",
       " 0.17751303972618437,\n",
       " 0.4846412182336258]"
      ]
     },
     "execution_count": 204,
     "metadata": {},
     "output_type": "execute_result"
    }
   ],
   "source": [
    "beta"
   ]
  },
  {
   "cell_type": "code",
   "execution_count": 214,
   "metadata": {},
   "outputs": [
    {
     "data": {
      "image/png": "[encoded data removed]",
      "text/plain": [
       "<matplotlib.figure.Figure at 0x127ff1208>"
      ]
     },
     "metadata": {},
     "output_type": "display_data"
    }
   ],
   "source": [
    "# ax will be an array of Axes objects\n",
    "fig, ax = plt.subplots(figsize=(7, 7))\n",
    "ax.set_prop_cycle(cycler('color', ['#0066a1', '#ce753b', '#b85696', '#31686c', '#853c42']))\n",
    "\n",
    "# Call plot() method on the appropriate object\n",
    "ax.scatter(np.array(beta) * exrtn_tangency_outofsample.mean(), df_outofsample.iloc[:, 1:].mean() - 0.33)\n",
    "for i, txt in enumerate(df.columns[1:]):\n",
    "    ax.annotate(txt, ((np.array(beta) * exrtn_tangency_outofsample.mean())[i] + 0.005, (df_outofsample.iloc[:, 1:].mean() - 0.33)[i] - 0.005))\n",
    "ax.plot(np.linspace(0, 0.8, 9), np.linspace(0, 0.8, 9), '--')\n",
    "    \n",
    "ax.set_xlabel('model-based expected excess return', fontsize = 12)\n",
    "ax.set_ylabel('average excess return', fontsize = 12)\n",
    "ax.xaxis.set_major_locator(plt.MultipleLocator(0.1))\n",
    "ax.yaxis.set_major_locator(plt.MultipleLocator(0.1));"
   ]
  },
  {
   "cell_type": "code",
   "execution_count": 215,
   "metadata": {},
   "outputs": [],
   "source": [
    "fig.savefig('q2fig5.pdf', format = 'pdf')"
   ]
  }
 ],
 "metadata": {
  "kernelspec": {
   "display_name": "Python 3",
   "language": "python",
   "name": "python3"
  },
  "language_info": {
   "codemirror_mode": {
    "name": "ipython",
    "version": 3
   },
   "file_extension": ".py",
   "mimetype": "text/x-python",
   "name": "python",
   "nbconvert_exporter": "python",
   "pygments_lexer": "ipython3",
   "version": "3.6.4"
  }
 },
 "nbformat": 4,
 "nbformat_minor": 2
}
