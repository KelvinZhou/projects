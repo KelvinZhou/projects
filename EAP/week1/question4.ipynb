{
 "cells": [
  {
   "cell_type": "code",
   "execution_count": 1,
   "metadata": {},
   "outputs": [],
   "source": [
    "import numpy as np\n",
    "import pandas as pd\n",
    "import matplotlib.pyplot as plt\n",
    "from matplotlib import cycler\n",
    "from scipy import stats\n",
    "import statsmodels.api as sm"
   ]
  },
  {
   "cell_type": "code",
   "execution_count": 2,
   "metadata": {},
   "outputs": [
    {
     "data": {
      "text/html": [
       "<div>\n",
       "<style scoped>\n",
       "    .dataframe tbody tr th:only-of-type {\n",
       "        vertical-align: middle;\n",
       "    }\n",
       "\n",
       "    .dataframe tbody tr th {\n",
       "        vertical-align: top;\n",
       "    }\n",
       "\n",
       "    .dataframe thead th {\n",
       "        text-align: right;\n",
       "    }\n",
       "</style>\n",
       "<table border=\"1\" class=\"dataframe\">\n",
       "  <thead>\n",
       "    <tr style=\"text-align: right;\">\n",
       "      <th></th>\n",
       "      <th>year</th>\n",
       "      <th>vwretd</th>\n",
       "      <th>vwretx</th>\n",
       "      <th>vwRetd</th>\n",
       "      <th>vwRetx</th>\n",
       "      <th>rf</th>\n",
       "      <th>Rf</th>\n",
       "      <th>DP</th>\n",
       "      <th>DG</th>\n",
       "    </tr>\n",
       "  </thead>\n",
       "  <tbody>\n",
       "    <tr>\n",
       "      <td>0</td>\n",
       "      <td>1926</td>\n",
       "      <td>0.098479</td>\n",
       "      <td>0.043034</td>\n",
       "      <td>1.098479</td>\n",
       "      <td>1.043034</td>\n",
       "      <td>0.0351</td>\n",
       "      <td>1.0351</td>\n",
       "      <td>0.053157</td>\n",
       "      <td>NaN</td>\n",
       "    </tr>\n",
       "    <tr>\n",
       "      <td>1</td>\n",
       "      <td>1927</td>\n",
       "      <td>0.328716</td>\n",
       "      <td>0.266477</td>\n",
       "      <td>1.328716</td>\n",
       "      <td>1.266477</td>\n",
       "      <td>0.0307</td>\n",
       "      <td>1.0307</td>\n",
       "      <td>0.049143</td>\n",
       "      <td>1.170843</td>\n",
       "    </tr>\n",
       "    <tr>\n",
       "      <td>2</td>\n",
       "      <td>1928</td>\n",
       "      <td>0.391397</td>\n",
       "      <td>0.337056</td>\n",
       "      <td>1.391397</td>\n",
       "      <td>1.337056</td>\n",
       "      <td>0.0317</td>\n",
       "      <td>1.0317</td>\n",
       "      <td>0.040642</td>\n",
       "      <td>1.105764</td>\n",
       "    </tr>\n",
       "    <tr>\n",
       "      <td>3</td>\n",
       "      <td>1929</td>\n",
       "      <td>-0.150955</td>\n",
       "      <td>-0.182395</td>\n",
       "      <td>0.849045</td>\n",
       "      <td>0.817605</td>\n",
       "      <td>0.0426</td>\n",
       "      <td>1.0426</td>\n",
       "      <td>0.038454</td>\n",
       "      <td>0.773579</td>\n",
       "    </tr>\n",
       "    <tr>\n",
       "      <td>4</td>\n",
       "      <td>1930</td>\n",
       "      <td>-0.289005</td>\n",
       "      <td>-0.321455</td>\n",
       "      <td>0.710995</td>\n",
       "      <td>0.678545</td>\n",
       "      <td>0.0303</td>\n",
       "      <td>1.0303</td>\n",
       "      <td>0.047823</td>\n",
       "      <td>0.843870</td>\n",
       "    </tr>\n",
       "    <tr>\n",
       "      <td>...</td>\n",
       "      <td>...</td>\n",
       "      <td>...</td>\n",
       "      <td>...</td>\n",
       "      <td>...</td>\n",
       "      <td>...</td>\n",
       "      <td>...</td>\n",
       "      <td>...</td>\n",
       "      <td>...</td>\n",
       "      <td>...</td>\n",
       "    </tr>\n",
       "    <tr>\n",
       "      <td>89</td>\n",
       "      <td>2015</td>\n",
       "      <td>-0.015995</td>\n",
       "      <td>-0.037069</td>\n",
       "      <td>0.984005</td>\n",
       "      <td>0.962931</td>\n",
       "      <td>0.0003</td>\n",
       "      <td>1.0003</td>\n",
       "      <td>0.021885</td>\n",
       "      <td>1.008804</td>\n",
       "    </tr>\n",
       "    <tr>\n",
       "      <td>90</td>\n",
       "      <td>2016</td>\n",
       "      <td>0.129461</td>\n",
       "      <td>0.104250</td>\n",
       "      <td>1.129461</td>\n",
       "      <td>1.104250</td>\n",
       "      <td>0.0023</td>\n",
       "      <td>1.0023</td>\n",
       "      <td>0.022831</td>\n",
       "      <td>1.151962</td>\n",
       "    </tr>\n",
       "    <tr>\n",
       "      <td>91</td>\n",
       "      <td>2017</td>\n",
       "      <td>0.209028</td>\n",
       "      <td>0.184488</td>\n",
       "      <td>1.209028</td>\n",
       "      <td>1.184488</td>\n",
       "      <td>0.0051</td>\n",
       "      <td>1.0051</td>\n",
       "      <td>0.020718</td>\n",
       "      <td>1.074860</td>\n",
       "    </tr>\n",
       "    <tr>\n",
       "      <td>92</td>\n",
       "      <td>2018</td>\n",
       "      <td>-0.061828</td>\n",
       "      <td>-0.081145</td>\n",
       "      <td>0.938172</td>\n",
       "      <td>0.918855</td>\n",
       "      <td>0.0132</td>\n",
       "      <td>1.0132</td>\n",
       "      <td>0.021023</td>\n",
       "      <td>0.932386</td>\n",
       "    </tr>\n",
       "    <tr>\n",
       "      <td>93</td>\n",
       "      <td>2019</td>\n",
       "      <td>0.297513</td>\n",
       "      <td>0.271214</td>\n",
       "      <td>1.297513</td>\n",
       "      <td>1.271214</td>\n",
       "      <td>0.0237</td>\n",
       "      <td>1.0237</td>\n",
       "      <td>0.020688</td>\n",
       "      <td>1.250969</td>\n",
       "    </tr>\n",
       "  </tbody>\n",
       "</table>\n",
       "<p>94 rows × 9 columns</p>\n",
       "</div>"
      ],
      "text/plain": [
       "    year    vwretd    vwretx    vwRetd    vwRetx      rf      Rf        DP  \\\n",
       "0   1926  0.098479  0.043034  1.098479  1.043034  0.0351  1.0351  0.053157   \n",
       "1   1927  0.328716  0.266477  1.328716  1.266477  0.0307  1.0307  0.049143   \n",
       "2   1928  0.391397  0.337056  1.391397  1.337056  0.0317  1.0317  0.040642   \n",
       "3   1929 -0.150955 -0.182395  0.849045  0.817605  0.0426  1.0426  0.038454   \n",
       "4   1930 -0.289005 -0.321455  0.710995  0.678545  0.0303  1.0303  0.047823   \n",
       "..   ...       ...       ...       ...       ...     ...     ...       ...   \n",
       "89  2015 -0.015995 -0.037069  0.984005  0.962931  0.0003  1.0003  0.021885   \n",
       "90  2016  0.129461  0.104250  1.129461  1.104250  0.0023  1.0023  0.022831   \n",
       "91  2017  0.209028  0.184488  1.209028  1.184488  0.0051  1.0051  0.020718   \n",
       "92  2018 -0.061828 -0.081145  0.938172  0.918855  0.0132  1.0132  0.021023   \n",
       "93  2019  0.297513  0.271214  1.297513  1.271214  0.0237  1.0237  0.020688   \n",
       "\n",
       "          DG  \n",
       "0        NaN  \n",
       "1   1.170843  \n",
       "2   1.105764  \n",
       "3   0.773579  \n",
       "4   0.843870  \n",
       "..       ...  \n",
       "89  1.008804  \n",
       "90  1.151962  \n",
       "91  1.074860  \n",
       "92  0.932386  \n",
       "93  1.250969  \n",
       "\n",
       "[94 rows x 9 columns]"
      ]
     },
     "execution_count": 2,
     "metadata": {},
     "output_type": "execute_result"
    }
   ],
   "source": [
    "df = pd.read_csv('df1.csv')\n",
    "df"
   ]
  },
  {
   "cell_type": "code",
   "execution_count": 3,
   "metadata": {},
   "outputs": [
    {
     "data": {
      "text/html": [
       "<div>\n",
       "<style scoped>\n",
       "    .dataframe tbody tr th:only-of-type {\n",
       "        vertical-align: middle;\n",
       "    }\n",
       "\n",
       "    .dataframe tbody tr th {\n",
       "        vertical-align: top;\n",
       "    }\n",
       "\n",
       "    .dataframe thead th {\n",
       "        text-align: right;\n",
       "    }\n",
       "</style>\n",
       "<table border=\"1\" class=\"dataframe\">\n",
       "  <thead>\n",
       "    <tr style=\"text-align: right;\">\n",
       "      <th></th>\n",
       "      <th>year</th>\n",
       "      <th>vwretd</th>\n",
       "      <th>vwretx</th>\n",
       "      <th>vwRetd</th>\n",
       "      <th>vwRetx</th>\n",
       "      <th>rf</th>\n",
       "      <th>Rf</th>\n",
       "      <th>DP</th>\n",
       "      <th>DG</th>\n",
       "    </tr>\n",
       "  </thead>\n",
       "  <tbody>\n",
       "    <tr>\n",
       "      <td>0</td>\n",
       "      <td>1927</td>\n",
       "      <td>0.328716</td>\n",
       "      <td>0.266477</td>\n",
       "      <td>1.328716</td>\n",
       "      <td>1.266477</td>\n",
       "      <td>0.0307</td>\n",
       "      <td>1.0307</td>\n",
       "      <td>0.049143</td>\n",
       "      <td>1.170843</td>\n",
       "    </tr>\n",
       "    <tr>\n",
       "      <td>1</td>\n",
       "      <td>1928</td>\n",
       "      <td>0.391397</td>\n",
       "      <td>0.337056</td>\n",
       "      <td>1.391397</td>\n",
       "      <td>1.337056</td>\n",
       "      <td>0.0317</td>\n",
       "      <td>1.0317</td>\n",
       "      <td>0.040642</td>\n",
       "      <td>1.105764</td>\n",
       "    </tr>\n",
       "    <tr>\n",
       "      <td>2</td>\n",
       "      <td>1929</td>\n",
       "      <td>-0.150955</td>\n",
       "      <td>-0.182395</td>\n",
       "      <td>0.849045</td>\n",
       "      <td>0.817605</td>\n",
       "      <td>0.0426</td>\n",
       "      <td>1.0426</td>\n",
       "      <td>0.038454</td>\n",
       "      <td>0.773579</td>\n",
       "    </tr>\n",
       "    <tr>\n",
       "      <td>3</td>\n",
       "      <td>1930</td>\n",
       "      <td>-0.289005</td>\n",
       "      <td>-0.321455</td>\n",
       "      <td>0.710995</td>\n",
       "      <td>0.678545</td>\n",
       "      <td>0.0303</td>\n",
       "      <td>1.0303</td>\n",
       "      <td>0.047823</td>\n",
       "      <td>0.843870</td>\n",
       "    </tr>\n",
       "    <tr>\n",
       "      <td>4</td>\n",
       "      <td>1931</td>\n",
       "      <td>-0.443873</td>\n",
       "      <td>-0.476969</td>\n",
       "      <td>0.556127</td>\n",
       "      <td>0.523031</td>\n",
       "      <td>0.0148</td>\n",
       "      <td>1.0148</td>\n",
       "      <td>0.063277</td>\n",
       "      <td>0.692053</td>\n",
       "    </tr>\n",
       "    <tr>\n",
       "      <td>...</td>\n",
       "      <td>...</td>\n",
       "      <td>...</td>\n",
       "      <td>...</td>\n",
       "      <td>...</td>\n",
       "      <td>...</td>\n",
       "      <td>...</td>\n",
       "      <td>...</td>\n",
       "      <td>...</td>\n",
       "      <td>...</td>\n",
       "    </tr>\n",
       "    <tr>\n",
       "      <td>88</td>\n",
       "      <td>2015</td>\n",
       "      <td>-0.015995</td>\n",
       "      <td>-0.037069</td>\n",
       "      <td>0.984005</td>\n",
       "      <td>0.962931</td>\n",
       "      <td>0.0003</td>\n",
       "      <td>1.0003</td>\n",
       "      <td>0.021885</td>\n",
       "      <td>1.008804</td>\n",
       "    </tr>\n",
       "    <tr>\n",
       "      <td>89</td>\n",
       "      <td>2016</td>\n",
       "      <td>0.129461</td>\n",
       "      <td>0.104250</td>\n",
       "      <td>1.129461</td>\n",
       "      <td>1.104250</td>\n",
       "      <td>0.0023</td>\n",
       "      <td>1.0023</td>\n",
       "      <td>0.022831</td>\n",
       "      <td>1.151962</td>\n",
       "    </tr>\n",
       "    <tr>\n",
       "      <td>90</td>\n",
       "      <td>2017</td>\n",
       "      <td>0.209028</td>\n",
       "      <td>0.184488</td>\n",
       "      <td>1.209028</td>\n",
       "      <td>1.184488</td>\n",
       "      <td>0.0051</td>\n",
       "      <td>1.0051</td>\n",
       "      <td>0.020718</td>\n",
       "      <td>1.074860</td>\n",
       "    </tr>\n",
       "    <tr>\n",
       "      <td>91</td>\n",
       "      <td>2018</td>\n",
       "      <td>-0.061828</td>\n",
       "      <td>-0.081145</td>\n",
       "      <td>0.938172</td>\n",
       "      <td>0.918855</td>\n",
       "      <td>0.0132</td>\n",
       "      <td>1.0132</td>\n",
       "      <td>0.021023</td>\n",
       "      <td>0.932386</td>\n",
       "    </tr>\n",
       "    <tr>\n",
       "      <td>92</td>\n",
       "      <td>2019</td>\n",
       "      <td>0.297513</td>\n",
       "      <td>0.271214</td>\n",
       "      <td>1.297513</td>\n",
       "      <td>1.271214</td>\n",
       "      <td>0.0237</td>\n",
       "      <td>1.0237</td>\n",
       "      <td>0.020688</td>\n",
       "      <td>1.250969</td>\n",
       "    </tr>\n",
       "  </tbody>\n",
       "</table>\n",
       "<p>93 rows × 9 columns</p>\n",
       "</div>"
      ],
      "text/plain": [
       "    year    vwretd    vwretx    vwRetd    vwRetx      rf      Rf        DP  \\\n",
       "0   1927  0.328716  0.266477  1.328716  1.266477  0.0307  1.0307  0.049143   \n",
       "1   1928  0.391397  0.337056  1.391397  1.337056  0.0317  1.0317  0.040642   \n",
       "2   1929 -0.150955 -0.182395  0.849045  0.817605  0.0426  1.0426  0.038454   \n",
       "3   1930 -0.289005 -0.321455  0.710995  0.678545  0.0303  1.0303  0.047823   \n",
       "4   1931 -0.443873 -0.476969  0.556127  0.523031  0.0148  1.0148  0.063277   \n",
       "..   ...       ...       ...       ...       ...     ...     ...       ...   \n",
       "88  2015 -0.015995 -0.037069  0.984005  0.962931  0.0003  1.0003  0.021885   \n",
       "89  2016  0.129461  0.104250  1.129461  1.104250  0.0023  1.0023  0.022831   \n",
       "90  2017  0.209028  0.184488  1.209028  1.184488  0.0051  1.0051  0.020718   \n",
       "91  2018 -0.061828 -0.081145  0.938172  0.918855  0.0132  1.0132  0.021023   \n",
       "92  2019  0.297513  0.271214  1.297513  1.271214  0.0237  1.0237  0.020688   \n",
       "\n",
       "          DG  \n",
       "0   1.170843  \n",
       "1   1.105764  \n",
       "2   0.773579  \n",
       "3   0.843870  \n",
       "4   0.692053  \n",
       "..       ...  \n",
       "88  1.008804  \n",
       "89  1.151962  \n",
       "90  1.074860  \n",
       "91  0.932386  \n",
       "92  1.250969  \n",
       "\n",
       "[93 rows x 9 columns]"
      ]
     },
     "execution_count": 3,
     "metadata": {},
     "output_type": "execute_result"
    }
   ],
   "source": [
    "# Although in this analysis, DG1926=nan does not matter, Zhiwen suggests delete the observations where nan appears \n",
    "# and keep the sample balanced\n",
    "df.dropna(inplace = True)\n",
    "df.reset_index(drop = True, inplace = True)\n",
    "df"
   ]
  },
  {
   "cell_type": "code",
   "execution_count": 4,
   "metadata": {},
   "outputs": [],
   "source": [
    "df['dp'] = np.log(df['DP'])\n",
    "df['dg'] = np.log(df['DG'])\n",
    "df['r'] = np.log(df['vwRetd'])"
   ]
  },
  {
   "cell_type": "code",
   "execution_count": 5,
   "metadata": {},
   "outputs": [
    {
     "data": {
      "text/plain": [
       "0.9669445703655455"
      ]
     },
     "execution_count": 5,
     "metadata": {},
     "output_type": "execute_result"
    }
   ],
   "source": [
    "rho = np.exp(- df['dp'].mean()) / (1 + np.exp(- df['dp'].mean()))\n",
    "rho"
   ]
  },
  {
   "cell_type": "code",
   "execution_count": 6,
   "metadata": {},
   "outputs": [],
   "source": [
    "df['dghat'] = df['r'] + rho * df['dp'] - df['dp'].shift(1)"
   ]
  },
  {
   "cell_type": "code",
   "execution_count": 7,
   "metadata": {
    "scrolled": true
   },
   "outputs": [
    {
     "data": {
      "image/png": "[encoded data removed]",
      "text/plain": [
       "<matplotlib.figure.Figure at 0x105b61b38>"
      ]
     },
     "metadata": {},
     "output_type": "display_data"
    }
   ],
   "source": [
    "# ax will be an array of Axes objects\n",
    "fig, ax = plt.subplots(figsize=(14, 7))\n",
    "ax.set_prop_cycle(cycler('color', ['#0066a1', '#ce753b', '#b85696', '#31686c', '#853c42']))\n",
    "\n",
    "# Call plot() method on the appropriate object\n",
    "ax.plot(df['year'], df['dg'], linewidth=0.7, label=r'$\\Delta d_{t+1}$')\n",
    "ax.plot(df['year'], df['dghat'], linewidth=0.7, label=r'$\\Delta \\hat{d}_{t+1}$')\n",
    "\n",
    "ax.set_xlabel('Year', fontsize = 12)\n",
    "ax.xaxis.set_major_locator(plt.MultipleLocator(10))\n",
    "ax.yaxis.set_major_locator(plt.MultipleLocator(20))\n",
    "ax.legend()\n",
    "ax.set_title(r'Figure: Plot of $\\Delta d_{t+1}$ and $\\Delta \\hat{d}_{t+1}$', fontsize = 15);"
   ]
  },
  {
   "cell_type": "code",
   "execution_count": 8,
   "metadata": {},
   "outputs": [],
   "source": [
    "fig.savefig('q4fig1.pdf', format = 'pdf')"
   ]
  },
  {
   "cell_type": "markdown",
   "metadata": {},
   "source": [
    "### VAR(1)"
   ]
  },
  {
   "cell_type": "code",
   "execution_count": 130,
   "metadata": {},
   "outputs": [
    {
     "data": {
      "text/html": [
       "<div>\n",
       "<style scoped>\n",
       "    .dataframe tbody tr th:only-of-type {\n",
       "        vertical-align: middle;\n",
       "    }\n",
       "\n",
       "    .dataframe tbody tr th {\n",
       "        vertical-align: top;\n",
       "    }\n",
       "\n",
       "    .dataframe thead th {\n",
       "        text-align: right;\n",
       "    }\n",
       "</style>\n",
       "<table border=\"1\" class=\"dataframe\">\n",
       "  <thead>\n",
       "    <tr style=\"text-align: right;\">\n",
       "      <th></th>\n",
       "      <th>year</th>\n",
       "      <th>vwretd</th>\n",
       "      <th>vwretx</th>\n",
       "      <th>vwRetd</th>\n",
       "      <th>vwRetx</th>\n",
       "      <th>rf</th>\n",
       "      <th>Rf</th>\n",
       "      <th>DP</th>\n",
       "      <th>DG</th>\n",
       "      <th>dp</th>\n",
       "      <th>dg</th>\n",
       "      <th>r</th>\n",
       "      <th>dghat</th>\n",
       "    </tr>\n",
       "  </thead>\n",
       "  <tbody>\n",
       "    <tr>\n",
       "      <td>0</td>\n",
       "      <td>1927</td>\n",
       "      <td>0.328716</td>\n",
       "      <td>0.266477</td>\n",
       "      <td>1.328716</td>\n",
       "      <td>1.266477</td>\n",
       "      <td>0.0307</td>\n",
       "      <td>1.0307</td>\n",
       "      <td>0.049143</td>\n",
       "      <td>1.170843</td>\n",
       "      <td>-3.013012</td>\n",
       "      <td>0.157724</td>\n",
       "      <td>0.284213</td>\n",
       "      <td>NaN</td>\n",
       "    </tr>\n",
       "    <tr>\n",
       "      <td>1</td>\n",
       "      <td>1928</td>\n",
       "      <td>0.391397</td>\n",
       "      <td>0.337056</td>\n",
       "      <td>1.391397</td>\n",
       "      <td>1.337056</td>\n",
       "      <td>0.0317</td>\n",
       "      <td>1.0317</td>\n",
       "      <td>0.040642</td>\n",
       "      <td>1.105764</td>\n",
       "      <td>-3.202946</td>\n",
       "      <td>0.100536</td>\n",
       "      <td>0.330308</td>\n",
       "      <td>0.246249</td>\n",
       "    </tr>\n",
       "    <tr>\n",
       "      <td>2</td>\n",
       "      <td>1929</td>\n",
       "      <td>-0.150955</td>\n",
       "      <td>-0.182395</td>\n",
       "      <td>0.849045</td>\n",
       "      <td>0.817605</td>\n",
       "      <td>0.0426</td>\n",
       "      <td>1.0426</td>\n",
       "      <td>0.038454</td>\n",
       "      <td>0.773579</td>\n",
       "      <td>-3.258298</td>\n",
       "      <td>-0.256728</td>\n",
       "      <td>-0.163643</td>\n",
       "      <td>-0.111291</td>\n",
       "    </tr>\n",
       "    <tr>\n",
       "      <td>3</td>\n",
       "      <td>1930</td>\n",
       "      <td>-0.289005</td>\n",
       "      <td>-0.321455</td>\n",
       "      <td>0.710995</td>\n",
       "      <td>0.678545</td>\n",
       "      <td>0.0303</td>\n",
       "      <td>1.0303</td>\n",
       "      <td>0.047823</td>\n",
       "      <td>0.843870</td>\n",
       "      <td>-3.040250</td>\n",
       "      <td>-0.169756</td>\n",
       "      <td>-0.341090</td>\n",
       "      <td>-0.022545</td>\n",
       "    </tr>\n",
       "    <tr>\n",
       "      <td>4</td>\n",
       "      <td>1931</td>\n",
       "      <td>-0.443873</td>\n",
       "      <td>-0.476969</td>\n",
       "      <td>0.556127</td>\n",
       "      <td>0.523031</td>\n",
       "      <td>0.0148</td>\n",
       "      <td>1.0148</td>\n",
       "      <td>0.063277</td>\n",
       "      <td>0.692053</td>\n",
       "      <td>-2.760228</td>\n",
       "      <td>-0.368092</td>\n",
       "      <td>-0.586759</td>\n",
       "      <td>-0.215496</td>\n",
       "    </tr>\n",
       "    <tr>\n",
       "      <td>...</td>\n",
       "      <td>...</td>\n",
       "      <td>...</td>\n",
       "      <td>...</td>\n",
       "      <td>...</td>\n",
       "      <td>...</td>\n",
       "      <td>...</td>\n",
       "      <td>...</td>\n",
       "      <td>...</td>\n",
       "      <td>...</td>\n",
       "      <td>...</td>\n",
       "      <td>...</td>\n",
       "      <td>...</td>\n",
       "      <td>...</td>\n",
       "    </tr>\n",
       "    <tr>\n",
       "      <td>88</td>\n",
       "      <td>2015</td>\n",
       "      <td>-0.015995</td>\n",
       "      <td>-0.037069</td>\n",
       "      <td>0.984005</td>\n",
       "      <td>0.962931</td>\n",
       "      <td>0.0003</td>\n",
       "      <td>1.0003</td>\n",
       "      <td>0.021885</td>\n",
       "      <td>1.008804</td>\n",
       "      <td>-3.821942</td>\n",
       "      <td>0.008766</td>\n",
       "      <td>-0.016124</td>\n",
       "      <td>0.156751</td>\n",
       "    </tr>\n",
       "    <tr>\n",
       "      <td>89</td>\n",
       "      <td>2016</td>\n",
       "      <td>0.129461</td>\n",
       "      <td>0.104250</td>\n",
       "      <td>1.129461</td>\n",
       "      <td>1.104250</td>\n",
       "      <td>0.0023</td>\n",
       "      <td>1.0023</td>\n",
       "      <td>0.022831</td>\n",
       "      <td>1.151962</td>\n",
       "      <td>-3.779641</td>\n",
       "      <td>0.141467</td>\n",
       "      <td>0.121741</td>\n",
       "      <td>0.288979</td>\n",
       "    </tr>\n",
       "    <tr>\n",
       "      <td>90</td>\n",
       "      <td>2017</td>\n",
       "      <td>0.209028</td>\n",
       "      <td>0.184488</td>\n",
       "      <td>1.209028</td>\n",
       "      <td>1.184488</td>\n",
       "      <td>0.0051</td>\n",
       "      <td>1.0051</td>\n",
       "      <td>0.020718</td>\n",
       "      <td>1.074860</td>\n",
       "      <td>-3.876761</td>\n",
       "      <td>0.072190</td>\n",
       "      <td>0.189817</td>\n",
       "      <td>0.220845</td>\n",
       "    </tr>\n",
       "    <tr>\n",
       "      <td>91</td>\n",
       "      <td>2018</td>\n",
       "      <td>-0.061828</td>\n",
       "      <td>-0.081145</td>\n",
       "      <td>0.938172</td>\n",
       "      <td>0.918855</td>\n",
       "      <td>0.0132</td>\n",
       "      <td>1.0132</td>\n",
       "      <td>0.021023</td>\n",
       "      <td>0.932386</td>\n",
       "      <td>-3.862143</td>\n",
       "      <td>-0.070008</td>\n",
       "      <td>-0.063822</td>\n",
       "      <td>0.078461</td>\n",
       "    </tr>\n",
       "    <tr>\n",
       "      <td>92</td>\n",
       "      <td>2019</td>\n",
       "      <td>0.297513</td>\n",
       "      <td>0.271214</td>\n",
       "      <td>1.297513</td>\n",
       "      <td>1.271214</td>\n",
       "      <td>0.0237</td>\n",
       "      <td>1.0237</td>\n",
       "      <td>0.020688</td>\n",
       "      <td>1.250969</td>\n",
       "      <td>-3.878197</td>\n",
       "      <td>0.223918</td>\n",
       "      <td>0.260449</td>\n",
       "      <td>0.372591</td>\n",
       "    </tr>\n",
       "  </tbody>\n",
       "</table>\n",
       "<p>93 rows × 13 columns</p>\n",
       "</div>"
      ],
      "text/plain": [
       "    year    vwretd    vwretx    vwRetd    vwRetx      rf      Rf        DP  \\\n",
       "0   1927  0.328716  0.266477  1.328716  1.266477  0.0307  1.0307  0.049143   \n",
       "1   1928  0.391397  0.337056  1.391397  1.337056  0.0317  1.0317  0.040642   \n",
       "2   1929 -0.150955 -0.182395  0.849045  0.817605  0.0426  1.0426  0.038454   \n",
       "3   1930 -0.289005 -0.321455  0.710995  0.678545  0.0303  1.0303  0.047823   \n",
       "4   1931 -0.443873 -0.476969  0.556127  0.523031  0.0148  1.0148  0.063277   \n",
       "..   ...       ...       ...       ...       ...     ...     ...       ...   \n",
       "88  2015 -0.015995 -0.037069  0.984005  0.962931  0.0003  1.0003  0.021885   \n",
       "89  2016  0.129461  0.104250  1.129461  1.104250  0.0023  1.0023  0.022831   \n",
       "90  2017  0.209028  0.184488  1.209028  1.184488  0.0051  1.0051  0.020718   \n",
       "91  2018 -0.061828 -0.081145  0.938172  0.918855  0.0132  1.0132  0.021023   \n",
       "92  2019  0.297513  0.271214  1.297513  1.271214  0.0237  1.0237  0.020688   \n",
       "\n",
       "          DG        dp        dg         r     dghat  \n",
       "0   1.170843 -3.013012  0.157724  0.284213       NaN  \n",
       "1   1.105764 -3.202946  0.100536  0.330308  0.246249  \n",
       "2   0.773579 -3.258298 -0.256728 -0.163643 -0.111291  \n",
       "3   0.843870 -3.040250 -0.169756 -0.341090 -0.022545  \n",
       "4   0.692053 -2.760228 -0.368092 -0.586759 -0.215496  \n",
       "..       ...       ...       ...       ...       ...  \n",
       "88  1.008804 -3.821942  0.008766 -0.016124  0.156751  \n",
       "89  1.151962 -3.779641  0.141467  0.121741  0.288979  \n",
       "90  1.074860 -3.876761  0.072190  0.189817  0.220845  \n",
       "91  0.932386 -3.862143 -0.070008 -0.063822  0.078461  \n",
       "92  1.250969 -3.878197  0.223918  0.260449  0.372591  \n",
       "\n",
       "[93 rows x 13 columns]"
      ]
     },
     "execution_count": 130,
     "metadata": {},
     "output_type": "execute_result"
    }
   ],
   "source": [
    "df"
   ]
  },
  {
   "cell_type": "code",
   "execution_count": 131,
   "metadata": {},
   "outputs": [],
   "source": [
    "# Dependent variable (nparray)\n",
    "Y = np.array(df.loc[1:, 'r'])[:, np.newaxis]\n",
    "# Independent variables (nparray)\n",
    "X = np.array(df.loc[:df.shape[0] - 2, ['r', 'dp']]) # .loc will include the tail!!!!!!!!!!\n",
    "X = sm.add_constant(X)\n",
    "model = sm.OLS(Y, X)\n",
    "result1 = model.fit()"
   ]
  },
  {
   "cell_type": "code",
   "execution_count": 132,
   "metadata": {},
   "outputs": [
    {
     "name": "stdout",
     "output_type": "stream",
     "text": [
      "b_r: 0.05115561005556342 \n",
      " b_dp: 0.08138266253216694 \n",
      " R^2: 0.01286710110600131\n"
     ]
    }
   ],
   "source": [
    "print('b_r:', result1.params[1], '\\n', 'b_dp:', result1.params[2], '\\n', 'R^2:', result1.rsquared_adj)"
   ]
  },
  {
   "cell_type": "code",
   "execution_count": 133,
   "metadata": {},
   "outputs": [],
   "source": [
    "# Dependent variable (nparray)\n",
    "Y = np.array(df.loc[1:, 'dp'])[:, np.newaxis]\n",
    "# Independent variables (nparray)\n",
    "X = np.array(df.loc[:df.shape[0] - 2, ['r', 'dp']]) # .loc will include the tail!!!!!!!!!!\n",
    "X = sm.add_constant(X)\n",
    "model = sm.OLS(Y, X)\n",
    "result2 = model.fit()"
   ]
  },
  {
   "cell_type": "code",
   "execution_count": 134,
   "metadata": {},
   "outputs": [
    {
     "name": "stdout",
     "output_type": "stream",
     "text": [
      "b_r: -0.21012145224145407 \n",
      " b_dp: 0.9410895904432759 \n",
      " R^2: 0.8921639155056266\n"
     ]
    }
   ],
   "source": [
    "print('b_r:', result2.params[1], '\\n', 'b_dp:', result2.params[2], '\\n', 'R^2:', result2.rsquared_adj)"
   ]
  },
  {
   "cell_type": "code",
   "execution_count": 135,
   "metadata": {},
   "outputs": [],
   "source": [
    "A = np.array([[result1.params[1], result1.params[2]],\n",
    "              [result2.params[1], result2.params[2]]])"
   ]
  },
  {
   "cell_type": "code",
   "execution_count": 136,
   "metadata": {},
   "outputs": [
    {
     "name": "stdout",
     "output_type": "stream",
     "text": [
      "standard error of conditional expected returns: 0.03611504204230696\n"
     ]
    }
   ],
   "source": [
    "print('standard error of conditional expected returns:', np.std(np.dot(np.array(df[['r', 'dp']]), A[0, :][:, np.newaxis])))"
   ]
  },
  {
   "cell_type": "code",
   "execution_count": 137,
   "metadata": {},
   "outputs": [
    {
     "name": "stdout",
     "output_type": "stream",
     "text": [
      "unconditional expected returns 0.09382855283852949\n"
     ]
    }
   ],
   "source": [
    "print('unconditional expected returns', np.mean(df['r']))"
   ]
  },
  {
   "cell_type": "markdown",
   "metadata": {},
   "source": [
    "### Long-run regression"
   ]
  },
  {
   "cell_type": "code",
   "execution_count": 138,
   "metadata": {},
   "outputs": [
    {
     "name": "stdout",
     "output_type": "stream",
     "text": [
      "e1G: [-0.11747454  0.80137161]\n"
     ]
    }
   ],
   "source": [
    "e1 = np.array([1, 0])\n",
    "e1G = e1 @ np.linalg.inv(np.identity(2) - rho * A) @ A\n",
    "print('e1G:',  e1G)"
   ]
  },
  {
   "cell_type": "code",
   "execution_count": 139,
   "metadata": {},
   "outputs": [
    {
     "name": "stdout",
     "output_type": "stream",
     "text": [
      "edG: [-0.11747454 -0.19862839]\n"
     ]
    }
   ],
   "source": [
    "e1 = np.array([1, 0])\n",
    "e2 = np.array([0, 1])\n",
    "ed = (e1 + rho * e2 - e2 @ np.linalg.inv(A))\n",
    "edG = ed @ np.linalg.inv(np.identity(2) - rho * A) @ A\n",
    "print('edG:',  edG)"
   ]
  },
  {
   "cell_type": "code",
   "execution_count": 140,
   "metadata": {},
   "outputs": [
    {
     "data": {
      "text/plain": [
       "array([-2.35922393e-16,  1.00000000e+00])"
      ]
     },
     "execution_count": 140,
     "metadata": {},
     "output_type": "execute_result"
    }
   ],
   "source": [
    "e1G - edG"
   ]
  },
  {
   "cell_type": "code",
   "execution_count": 141,
   "metadata": {},
   "outputs": [],
   "source": [
    "df['dpr'] = np.array(df[['r', 'dp']]) @ e1G[:, np.newaxis]\n",
    "df['dpd'] = np.array(df[['r', 'dp']]) @ edG[:, np.newaxis]"
   ]
  },
  {
   "cell_type": "code",
   "execution_count": 142,
   "metadata": {},
   "outputs": [
    {
     "name": "stdout",
     "output_type": "stream",
     "text": [
      "std(dp): 0.4322006598130496\n",
      "std(dpr): 0.3481403581473866\n",
      "std(dpd): 0.0878244651701465\n",
      "var(dpr)/var(dp): 0.6488404135182875\n",
      "var(dpd)/var(dp): 0.04129145403175612\n"
     ]
    }
   ],
   "source": [
    "print('std(dp):', np.std(df['dp']))\n",
    "print('std(dpr):', np.std(df['dpr']))\n",
    "print('std(dpd):', np.std(df['dpd']))\n",
    "print('var(dpr)/var(dp):', np.var(df['dpr']) / np.var(df['dp']))\n",
    "print('var(dpd)/var(dp):', np.var(df['dpd']) / np.var(df['dp']))"
   ]
  },
  {
   "cell_type": "code",
   "execution_count": 143,
   "metadata": {},
   "outputs": [
    {
     "name": "stdout",
     "output_type": "stream",
     "text": [
      "cov(dpr, dpd): \n",
      " [[ 0.12251912 -0.02925586]\n",
      " [-0.02925586  0.00779698]]\n"
     ]
    }
   ],
   "source": [
    "print('cov(dpr, dpd):', '\\n', np.cov(df['dpr'], df['dpd']))"
   ]
  },
  {
   "cell_type": "code",
   "execution_count": 144,
   "metadata": {},
   "outputs": [
    {
     "data": {
      "text/plain": [
       "1.0033681318744578"
      ]
     },
     "execution_count": 144,
     "metadata": {},
     "output_type": "execute_result"
    }
   ],
   "source": [
    "(np.var(df['dpr']) + np.var(df['dpd']) - 2 * np.cov(df['dpr'], df['dpd'])[0, 1]) / np.var(df['dp'])"
   ]
  },
  {
   "cell_type": "code",
   "execution_count": 145,
   "metadata": {},
   "outputs": [
    {
     "data": {
      "image/png": "[encoded data removed]",
      "text/plain": [
       "<matplotlib.figure.Figure at 0x119e15128>"
      ]
     },
     "metadata": {},
     "output_type": "display_data"
    }
   ],
   "source": [
    "# ax will be an array of Axes objects\n",
    "fig, ax = plt.subplots(figsize=(14, 7))\n",
    "ax.set_prop_cycle(cycler('color', ['#0066a1', '#ce753b', '#b85696', '#31686c', '#853c42']))\n",
    "\n",
    "# Call plot() method on the appropriate object\n",
    "ax.plot(df['year'], df['dp'], linewidth=0.7, label=r'$dp_t$')\n",
    "ax.plot(df['year'], df['dpr'], linewidth=0.7, label=r'$dp^r_t$')\n",
    "ax.plot(df['year'], - df['dpd'], linewidth=0.7, label=r'$-dp^d_t$')\n",
    "\n",
    "ax.set_xlabel('Year', fontsize = 12)\n",
    "ax.xaxis.set_major_locator(plt.MultipleLocator(10))\n",
    "ax.yaxis.set_major_locator(plt.MultipleLocator(0.5))\n",
    "ax.legend();"
   ]
  },
  {
   "cell_type": "markdown",
   "metadata": {},
   "source": [
    "### More state variables"
   ]
  },
  {
   "cell_type": "code",
   "execution_count": 146,
   "metadata": {},
   "outputs": [
    {
     "data": {
      "text/html": [
       "<div>\n",
       "<style scoped>\n",
       "    .dataframe tbody tr th:only-of-type {\n",
       "        vertical-align: middle;\n",
       "    }\n",
       "\n",
       "    .dataframe tbody tr th {\n",
       "        vertical-align: top;\n",
       "    }\n",
       "\n",
       "    .dataframe thead th {\n",
       "        text-align: right;\n",
       "    }\n",
       "</style>\n",
       "<table border=\"1\" class=\"dataframe\">\n",
       "  <thead>\n",
       "    <tr style=\"text-align: right;\">\n",
       "      <th></th>\n",
       "      <th>year</th>\n",
       "      <th>vwretd</th>\n",
       "      <th>vwretx</th>\n",
       "      <th>vwRetd</th>\n",
       "      <th>vwRetx</th>\n",
       "      <th>rf</th>\n",
       "      <th>Rf</th>\n",
       "      <th>DP</th>\n",
       "      <th>DG</th>\n",
       "      <th>cay</th>\n",
       "      <th>dp</th>\n",
       "      <th>dg</th>\n",
       "      <th>r</th>\n",
       "    </tr>\n",
       "  </thead>\n",
       "  <tbody>\n",
       "    <tr>\n",
       "      <td>0</td>\n",
       "      <td>1952</td>\n",
       "      <td>0.133324</td>\n",
       "      <td>0.074015</td>\n",
       "      <td>1.133324</td>\n",
       "      <td>1.074015</td>\n",
       "      <td>0.0173</td>\n",
       "      <td>1.0173</td>\n",
       "      <td>0.055222</td>\n",
       "      <td>1.014585</td>\n",
       "      <td>0.022166</td>\n",
       "      <td>-2.896398</td>\n",
       "      <td>0.014479</td>\n",
       "      <td>0.125155</td>\n",
       "    </tr>\n",
       "    <tr>\n",
       "      <td>1</td>\n",
       "      <td>1953</td>\n",
       "      <td>0.003843</td>\n",
       "      <td>-0.050273</td>\n",
       "      <td>1.003843</td>\n",
       "      <td>0.949727</td>\n",
       "      <td>0.0209</td>\n",
       "      <td>1.0209</td>\n",
       "      <td>0.056981</td>\n",
       "      <td>0.979976</td>\n",
       "      <td>0.012191</td>\n",
       "      <td>-2.865045</td>\n",
       "      <td>-0.020227</td>\n",
       "      <td>0.003836</td>\n",
       "    </tr>\n",
       "    <tr>\n",
       "      <td>2</td>\n",
       "      <td>1954</td>\n",
       "      <td>0.504120</td>\n",
       "      <td>0.433636</td>\n",
       "      <td>1.504120</td>\n",
       "      <td>1.433636</td>\n",
       "      <td>0.0160</td>\n",
       "      <td>1.0160</td>\n",
       "      <td>0.049165</td>\n",
       "      <td>1.236983</td>\n",
       "      <td>0.025424</td>\n",
       "      <td>-3.012583</td>\n",
       "      <td>0.212675</td>\n",
       "      <td>0.408208</td>\n",
       "    </tr>\n",
       "    <tr>\n",
       "      <td>3</td>\n",
       "      <td>1955</td>\n",
       "      <td>0.254135</td>\n",
       "      <td>0.204040</td>\n",
       "      <td>1.254135</td>\n",
       "      <td>1.204040</td>\n",
       "      <td>0.0115</td>\n",
       "      <td>1.0115</td>\n",
       "      <td>0.041606</td>\n",
       "      <td>1.018926</td>\n",
       "      <td>0.019292</td>\n",
       "      <td>-3.179517</td>\n",
       "      <td>0.018749</td>\n",
       "      <td>0.226446</td>\n",
       "    </tr>\n",
       "    <tr>\n",
       "      <td>4</td>\n",
       "      <td>1956</td>\n",
       "      <td>0.085817</td>\n",
       "      <td>0.043745</td>\n",
       "      <td>1.085817</td>\n",
       "      <td>1.043745</td>\n",
       "      <td>0.0254</td>\n",
       "      <td>1.0254</td>\n",
       "      <td>0.040309</td>\n",
       "      <td>1.011206</td>\n",
       "      <td>-0.002524</td>\n",
       "      <td>-3.211188</td>\n",
       "      <td>0.011144</td>\n",
       "      <td>0.082333</td>\n",
       "    </tr>\n",
       "    <tr>\n",
       "      <td>...</td>\n",
       "      <td>...</td>\n",
       "      <td>...</td>\n",
       "      <td>...</td>\n",
       "      <td>...</td>\n",
       "      <td>...</td>\n",
       "      <td>...</td>\n",
       "      <td>...</td>\n",
       "      <td>...</td>\n",
       "      <td>...</td>\n",
       "      <td>...</td>\n",
       "      <td>...</td>\n",
       "      <td>...</td>\n",
       "      <td>...</td>\n",
       "    </tr>\n",
       "    <tr>\n",
       "      <td>62</td>\n",
       "      <td>2014</td>\n",
       "      <td>0.108363</td>\n",
       "      <td>0.085683</td>\n",
       "      <td>1.108363</td>\n",
       "      <td>1.085683</td>\n",
       "      <td>0.0007</td>\n",
       "      <td>1.0007</td>\n",
       "      <td>0.020890</td>\n",
       "      <td>1.045795</td>\n",
       "      <td>-0.017555</td>\n",
       "      <td>-3.868481</td>\n",
       "      <td>0.044777</td>\n",
       "      <td>0.102884</td>\n",
       "    </tr>\n",
       "    <tr>\n",
       "      <td>63</td>\n",
       "      <td>2015</td>\n",
       "      <td>-0.015995</td>\n",
       "      <td>-0.037069</td>\n",
       "      <td>0.984005</td>\n",
       "      <td>0.962931</td>\n",
       "      <td>0.0003</td>\n",
       "      <td>1.0003</td>\n",
       "      <td>0.021885</td>\n",
       "      <td>1.008804</td>\n",
       "      <td>-0.023502</td>\n",
       "      <td>-3.821942</td>\n",
       "      <td>0.008766</td>\n",
       "      <td>-0.016124</td>\n",
       "    </tr>\n",
       "    <tr>\n",
       "      <td>64</td>\n",
       "      <td>2016</td>\n",
       "      <td>0.129461</td>\n",
       "      <td>0.104250</td>\n",
       "      <td>1.129461</td>\n",
       "      <td>1.104250</td>\n",
       "      <td>0.0023</td>\n",
       "      <td>1.0023</td>\n",
       "      <td>0.022831</td>\n",
       "      <td>1.151962</td>\n",
       "      <td>-0.019028</td>\n",
       "      <td>-3.779641</td>\n",
       "      <td>0.141467</td>\n",
       "      <td>0.121741</td>\n",
       "    </tr>\n",
       "    <tr>\n",
       "      <td>65</td>\n",
       "      <td>2017</td>\n",
       "      <td>0.209028</td>\n",
       "      <td>0.184488</td>\n",
       "      <td>1.209028</td>\n",
       "      <td>1.184488</td>\n",
       "      <td>0.0051</td>\n",
       "      <td>1.0051</td>\n",
       "      <td>0.020718</td>\n",
       "      <td>1.074860</td>\n",
       "      <td>-0.024902</td>\n",
       "      <td>-3.876761</td>\n",
       "      <td>0.072190</td>\n",
       "      <td>0.189817</td>\n",
       "    </tr>\n",
       "    <tr>\n",
       "      <td>66</td>\n",
       "      <td>2018</td>\n",
       "      <td>-0.061828</td>\n",
       "      <td>-0.081145</td>\n",
       "      <td>0.938172</td>\n",
       "      <td>0.918855</td>\n",
       "      <td>0.0132</td>\n",
       "      <td>1.0132</td>\n",
       "      <td>0.021023</td>\n",
       "      <td>0.932386</td>\n",
       "      <td>-0.020207</td>\n",
       "      <td>-3.862143</td>\n",
       "      <td>-0.070008</td>\n",
       "      <td>-0.063822</td>\n",
       "    </tr>\n",
       "  </tbody>\n",
       "</table>\n",
       "<p>67 rows × 13 columns</p>\n",
       "</div>"
      ],
      "text/plain": [
       "    year    vwretd    vwretx    vwRetd    vwRetx      rf      Rf        DP  \\\n",
       "0   1952  0.133324  0.074015  1.133324  1.074015  0.0173  1.0173  0.055222   \n",
       "1   1953  0.003843 -0.050273  1.003843  0.949727  0.0209  1.0209  0.056981   \n",
       "2   1954  0.504120  0.433636  1.504120  1.433636  0.0160  1.0160  0.049165   \n",
       "3   1955  0.254135  0.204040  1.254135  1.204040  0.0115  1.0115  0.041606   \n",
       "4   1956  0.085817  0.043745  1.085817  1.043745  0.0254  1.0254  0.040309   \n",
       "..   ...       ...       ...       ...       ...     ...     ...       ...   \n",
       "62  2014  0.108363  0.085683  1.108363  1.085683  0.0007  1.0007  0.020890   \n",
       "63  2015 -0.015995 -0.037069  0.984005  0.962931  0.0003  1.0003  0.021885   \n",
       "64  2016  0.129461  0.104250  1.129461  1.104250  0.0023  1.0023  0.022831   \n",
       "65  2017  0.209028  0.184488  1.209028  1.184488  0.0051  1.0051  0.020718   \n",
       "66  2018 -0.061828 -0.081145  0.938172  0.918855  0.0132  1.0132  0.021023   \n",
       "\n",
       "          DG       cay        dp        dg         r  \n",
       "0   1.014585  0.022166 -2.896398  0.014479  0.125155  \n",
       "1   0.979976  0.012191 -2.865045 -0.020227  0.003836  \n",
       "2   1.236983  0.025424 -3.012583  0.212675  0.408208  \n",
       "3   1.018926  0.019292 -3.179517  0.018749  0.226446  \n",
       "4   1.011206 -0.002524 -3.211188  0.011144  0.082333  \n",
       "..       ...       ...       ...       ...       ...  \n",
       "62  1.045795 -0.017555 -3.868481  0.044777  0.102884  \n",
       "63  1.008804 -0.023502 -3.821942  0.008766 -0.016124  \n",
       "64  1.151962 -0.019028 -3.779641  0.141467  0.121741  \n",
       "65  1.074860 -0.024902 -3.876761  0.072190  0.189817  \n",
       "66  0.932386 -0.020207 -3.862143 -0.070008 -0.063822  \n",
       "\n",
       "[67 rows x 13 columns]"
      ]
     },
     "execution_count": 146,
     "metadata": {},
     "output_type": "execute_result"
    }
   ],
   "source": [
    "df = pd.read_csv('df2.csv')\n",
    "df.dropna(inplace = True)\n",
    "df.reset_index(drop = True, inplace = True)\n",
    "df['dp'] = np.log(df['DP'])\n",
    "df['dg'] = np.log(df['DG'])\n",
    "df['r'] = np.log(df['vwRetd'])\n",
    "df"
   ]
  },
  {
   "cell_type": "code",
   "execution_count": 147,
   "metadata": {},
   "outputs": [
    {
     "data": {
      "text/plain": [
       "0.9715033814051754"
      ]
     },
     "execution_count": 147,
     "metadata": {},
     "output_type": "execute_result"
    }
   ],
   "source": [
    "rho = np.exp(- df['dp'].mean()) / (1 + np.exp(- df['dp'].mean()))\n",
    "rho"
   ]
  },
  {
   "cell_type": "code",
   "execution_count": 148,
   "metadata": {},
   "outputs": [
    {
     "name": "stdout",
     "output_type": "stream",
     "text": [
      "b_r: -0.14260955720510804\n",
      "b_dp: 0.14364163274813743\n",
      "b_cay: 2.2382272328785393\n",
      "R^2: 0.12963142731348798\n"
     ]
    }
   ],
   "source": [
    "# Dependent variable (nparray)\n",
    "Y = np.array(df.loc[1:, 'r'])[:, np.newaxis]\n",
    "# Independent variables (nparray)\n",
    "X = np.array(df.loc[:df.shape[0] - 2, ['r', 'dp', 'cay']]) # .loc will include the tail!!!!!!!!!!\n",
    "X = sm.add_constant(X)\n",
    "model = sm.OLS(Y, X)\n",
    "result1 = model.fit()\n",
    "print('b_r:', result1.params[1])\n",
    "print('b_dp:', result1.params[2])\n",
    "print('b_cay:', result1.params[3])\n",
    "print('R^2:', result1.rsquared_adj)"
   ]
  },
  {
   "cell_type": "code",
   "execution_count": 149,
   "metadata": {},
   "outputs": [
    {
     "name": "stdout",
     "output_type": "stream",
     "text": [
      "b_r: -0.14260955720510804\n",
      "b_dp: 0.14364163274813743\n",
      "b_cay: 2.2382272328785393\n",
      "R^2: 0.12963142731348798\n"
     ]
    }
   ],
   "source": [
    "# Dependent variable (nparray)\n",
    "Y = np.array(df.loc[1:, 'dp'])[:, np.newaxis]\n",
    "# Independent variables (nparray)\n",
    "X = np.array(df.loc[:df.shape[0] - 2, ['r', 'dp', 'cay']]) # .loc will include the tail!!!!!!!!!!\n",
    "X = sm.add_constant(X)\n",
    "model = sm.OLS(Y, X)\n",
    "result2 = model.fit()\n",
    "print('b_r:', result1.params[1])\n",
    "print('b_dp:', result1.params[2])\n",
    "print('b_cay:', result1.params[3])\n",
    "print('R^2:', result1.rsquared_adj)"
   ]
  },
  {
   "cell_type": "code",
   "execution_count": 150,
   "metadata": {},
   "outputs": [
    {
     "name": "stdout",
     "output_type": "stream",
     "text": [
      "b_r: -0.14260955720510804\n",
      "b_dp: 0.14364163274813743\n",
      "b_cay: 2.2382272328785393\n",
      "R^2: 0.12963142731348798\n"
     ]
    }
   ],
   "source": [
    "# Dependent variable (nparray)\n",
    "Y = np.array(df.loc[1:, 'cay'])[:, np.newaxis]\n",
    "# Independent variables (nparray)\n",
    "X = np.array(df.loc[:df.shape[0] - 2, ['r', 'dp', 'cay']]) # .loc will include the tail!!!!!!!!!!\n",
    "X = sm.add_constant(X)\n",
    "model = sm.OLS(Y, X)\n",
    "result3 = model.fit()\n",
    "print('b_r:', result1.params[1])\n",
    "print('b_dp:', result1.params[2])\n",
    "print('b_cay:', result1.params[3])\n",
    "print('R^2:', result1.rsquared_adj)"
   ]
  },
  {
   "cell_type": "code",
   "execution_count": 151,
   "metadata": {},
   "outputs": [],
   "source": [
    "A = np.array([[result1.params[1], result1.params[2], result1.params[3]],\n",
    "              [result2.params[1], result2.params[2], result2.params[3]],\n",
    "              [result3.params[1], result3.params[2], result3.params[3]]])"
   ]
  },
  {
   "cell_type": "code",
   "execution_count": 152,
   "metadata": {},
   "outputs": [
    {
     "name": "stdout",
     "output_type": "stream",
     "text": [
      "standard error of conditional expected returns: 0.069070995613242\n"
     ]
    }
   ],
   "source": [
    "print('standard error of conditional expected returns:', np.std(np.dot(np.array(df[['r', 'dp', 'cay']]), A[0, :][:, np.newaxis])))"
   ]
  },
  {
   "cell_type": "code",
   "execution_count": 153,
   "metadata": {},
   "outputs": [
    {
     "name": "stdout",
     "output_type": "stream",
     "text": [
      "unconditional expected returns 0.09962066285291157\n"
     ]
    }
   ],
   "source": [
    "print('unconditional expected returns', np.mean(df['r']))"
   ]
  },
  {
   "cell_type": "code",
   "execution_count": 154,
   "metadata": {},
   "outputs": [
    {
     "name": "stdout",
     "output_type": "stream",
     "text": [
      "e1G: [-0.33540182  1.06685402  1.60183391]\n"
     ]
    }
   ],
   "source": [
    "e1 = np.array([1, 0, 0])\n",
    "e1G = e1 @ np.linalg.inv(np.identity(3) - rho * A) @ A\n",
    "print('e1G:',  e1G)"
   ]
  },
  {
   "cell_type": "code",
   "execution_count": 155,
   "metadata": {},
   "outputs": [
    {
     "name": "stdout",
     "output_type": "stream",
     "text": [
      "edG: [-0.33540182  0.06685402  1.60183391]\n"
     ]
    }
   ],
   "source": [
    "e1 = np.array([1, 0, 0])\n",
    "e2 = np.array([0, 1, 0])\n",
    "ed = (e1 + rho * e2 - e2 @ np.linalg.inv(A))\n",
    "edG = ed @ np.linalg.inv(np.identity(3) - rho * A) @ A\n",
    "print('edG:',  edG)"
   ]
  },
  {
   "cell_type": "code",
   "execution_count": 156,
   "metadata": {},
   "outputs": [
    {
     "data": {
      "text/plain": [
       "array([1.66533454e-16, 1.00000000e+00, 1.77635684e-15])"
      ]
     },
     "execution_count": 156,
     "metadata": {},
     "output_type": "execute_result"
    }
   ],
   "source": [
    "e1G - edG"
   ]
  },
  {
   "cell_type": "code",
   "execution_count": 157,
   "metadata": {},
   "outputs": [],
   "source": [
    "df['dpr'] = np.array(df[['r', 'dp', 'cay']]) @ e1G[:, np.newaxis]\n",
    "df['dpd'] = np.array(df[['r', 'dp', 'cay']]) @ edG[:, np.newaxis]"
   ]
  },
  {
   "cell_type": "code",
   "execution_count": 158,
   "metadata": {},
   "outputs": [
    {
     "name": "stdout",
     "output_type": "stream",
     "text": [
      "std(dp): 0.3830914570364833\n",
      "std(dpr): 0.4067211729176514\n",
      "std(dpd): 0.06383012967901584\n",
      "var(dpr)/var(dp): 1.1271679409688622\n",
      "var(dpd)/var(dp): 0.02776172953942275\n"
     ]
    }
   ],
   "source": [
    "print('std(dp):', np.std(df['dp']))\n",
    "print('std(dpr):', np.std(df['dpr']))\n",
    "print('std(dpd):', np.std(df['dpd']))\n",
    "print('var(dpr)/var(dp):', np.var(df['dpr']) / np.var(df['dp']))\n",
    "print('var(dpd)/var(dp):', np.var(df['dpd']) / np.var(df['dp']))"
   ]
  },
  {
   "cell_type": "code",
   "execution_count": 159,
   "metadata": {},
   "outputs": [
    {
     "name": "stdout",
     "output_type": "stream",
     "text": [
      "cov(dpr, dpd): \n",
      " [[0.16792851 0.01154092]\n",
      " [0.01154092 0.00413602]]\n"
     ]
    }
   ],
   "source": [
    "print('cov(dpr, dpd):', '\\n', np.cov(df['dpr'], df['dpd']))"
   ]
  },
  {
   "cell_type": "code",
   "execution_count": 160,
   "metadata": {},
   "outputs": [
    {
     "data": {
      "text/plain": [
       "0.997652580749873"
      ]
     },
     "execution_count": 160,
     "metadata": {},
     "output_type": "execute_result"
    }
   ],
   "source": [
    "(np.var(df['dpr']) + np.var(df['dpd']) - 2 * np.cov(df['dpr'], df['dpd'])[0, 1]) / np.var(df['dp'])"
   ]
  },
  {
   "cell_type": "code",
   "execution_count": 161,
   "metadata": {},
   "outputs": [
    {
     "data": {
      "image/png": "[encoded data removed]",
      "text/plain": [
       "<matplotlib.figure.Figure at 0x11cb2fc88>"
      ]
     },
     "metadata": {},
     "output_type": "display_data"
    }
   ],
   "source": [
    "# ax will be an array of Axes objects\n",
    "fig, ax = plt.subplots(figsize=(14, 7))\n",
    "ax.set_prop_cycle(cycler('color', ['#0066a1', '#ce753b', '#b85696', '#31686c', '#853c42']))\n",
    "\n",
    "# Call plot() method on the appropriate object\n",
    "ax.plot(df['year'], df['dp'], linewidth=0.7, label=r'$dp_t$')\n",
    "ax.plot(df['year'], df['dpr'], linewidth=0.7, label=r'$dp^r_t$')\n",
    "ax.plot(df['year'], - df['dpd'], linewidth=0.7, label=r'$-dp^d_t$')\n",
    "\n",
    "ax.set_xlabel('Year', fontsize = 12)\n",
    "ax.xaxis.set_major_locator(plt.MultipleLocator(10))\n",
    "ax.yaxis.set_major_locator(plt.MultipleLocator(0.5))\n",
    "ax.legend();"
   ]
  }
 ],
 "metadata": {
  "kernelspec": {
   "display_name": "Python 3",
   "language": "python",
   "name": "python3"
  },
  "language_info": {
   "codemirror_mode": {
    "name": "ipython",
    "version": 3
   },
   "file_extension": ".py",
   "mimetype": "text/x-python",
   "name": "python",
   "nbconvert_exporter": "python",
   "pygments_lexer": "ipython3",
   "version": "3.6.4"
  }
 },
 "nbformat": 4,
 "nbformat_minor": 2
}
